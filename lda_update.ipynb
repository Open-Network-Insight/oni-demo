{
 "metadata": {
  "name": "",
  "signature": "sha256:2d8cdeed2b7f4e795b9d8c72fde10f4c56b0afb6e3b279f2cc361ff03cedbb0b"
 },
 "nbformat": 3,
 "nbformat_minor": 0,
 "worksheets": [
  {
   "cells": [
    {
     "cell_type": "code",
     "collapsed": false,
     "input": [
      "import intelanalytics as ia\n",
      "\n",
      "\n",
      "ia.connect()"
     ],
     "language": "python",
     "metadata": {},
     "outputs": [
      {
       "output_type": "stream",
       "stream": "stdout",
       "text": [
        "Already connected to intelanalytics server.\n"
       ]
      }
     ],
     "prompt_number": 8
    },
    {
     "cell_type": "code",
     "collapsed": false,
     "input": [
      "dataset = r\"../hadoop/graphflow/vast/topic_graph.csv\"\n",
      "\n",
      "schema = [('srcip', str),('dstip', str), ('sport', str),  ('dport', str), \n",
      "('fs_srcbyte', ia.float32),('fs_dstbyte', ia.float32),('tot_srcbyte', ia.float64),('tot_dstbyte', ia.float64),\n",
      "('fs_srcpkt', ia.float32),('fs_dstpkt', ia.float32)]\n",
      "\n",
      "csv_file = ia.CsvFile(dataset, schema, skip_header_lines = 0)\n",
      "\n",
      "print(\"Creating DataFrame\")\n",
      "\n",
      "f = ia.Frame(csv_file)"
     ],
     "language": "python",
     "metadata": {},
     "outputs": [
      {
       "output_type": "stream",
       "stream": "stdout",
       "text": [
        "Creating DataFrame\n",
        "\r",
        "initializing..."
       ]
      },
      {
       "output_type": "stream",
       "stream": "stdout",
       "text": [
        "\r",
        "initializing..."
       ]
      },
      {
       "output_type": "stream",
       "stream": "stdout",
       "text": [
        "\r",
        "initializing..."
       ]
      },
      {
       "output_type": "stream",
       "stream": "stderr",
       "text": [
        "ERROR:intelanalytics.core.frame:Traceback (most recent call last):\n",
        "  File \"/usr/lib/python2.7/site-packages/intelanalytics/core/frame.py\", line 1036, in __init__\n",
        "    new_frame_name = self._backend.create(self, source, name, _info)\n",
        "  File \"/usr/lib/python2.7/site-packages/intelanalytics/rest/frame.py\", line 94, in create\n",
        "    self.append(frame, source)\n",
        "  File \"/usr/lib/python2.7/site-packages/intelanalytics/rest/frame.py\", line 302, in append\n",
        "    result = execute_update_frame_command(\"frame:/load\", arguments, frame)\n",
        "  File \"/usr/lib/python2.7/site-packages/intelanalytics/rest/frame.py\", line 722, in execute_update_frame_command\n",
        "    command_info = executor.issue(command_request)\n",
        "  File \"/usr/lib/python2.7/site-packages/intelanalytics/rest/command.py\", line 399, in issue\n",
        "    return self.poll_command_info(response)\n",
        "  File \"/usr/lib/python2.7/site-packages/intelanalytics/rest/command.py\", line 419, in poll_command_info\n",
        "    raise CommandServerError(command_info)\n",
        "CommandServerError: No file found at path hdfs://master.css-gao-poc4.cluster.gao:8020/user/hadoop/graphflow/vast/topic_graph.csv (command: 185, corId: a4a2d2d8-20fa-4857-8ce3-f24580cc606e)\n",
        "\n"
       ]
      },
      {
       "ename": "CommandServerError",
       "evalue": "No file found at path hdfs://master.css-gao-poc4.cluster.gao:8020/user/hadoop/graphflow/vast/topic_graph.csv (command: 185, corId: a4a2d2d8-20fa-4857-8ce3-f24580cc606e)",
       "output_type": "pyerr",
       "traceback": [
        "\u001b[1;31m---------------------------------------------------------------------------\u001b[0m\n\u001b[1;31mCommandServerError\u001b[0m                        Traceback (most recent call last)",
        "\u001b[1;32m<ipython-input-6-f590b493042d>\u001b[0m in \u001b[0;36m<module>\u001b[1;34m()\u001b[0m\n\u001b[0;32m      9\u001b[0m \u001b[1;32mprint\u001b[0m\u001b[1;33m(\u001b[0m\u001b[1;34m\"Creating DataFrame\"\u001b[0m\u001b[1;33m)\u001b[0m\u001b[1;33m\u001b[0m\u001b[0m\n\u001b[0;32m     10\u001b[0m \u001b[1;33m\u001b[0m\u001b[0m\n\u001b[1;32m---> 11\u001b[1;33m \u001b[0mf\u001b[0m \u001b[1;33m=\u001b[0m \u001b[0mia\u001b[0m\u001b[1;33m.\u001b[0m\u001b[0mFrame\u001b[0m\u001b[1;33m(\u001b[0m\u001b[0mcsv_file\u001b[0m\u001b[1;33m)\u001b[0m\u001b[1;33m\u001b[0m\u001b[0m\n\u001b[0m",
        "\u001b[1;32m/usr/lib/python2.7/site-packages/intelanalytics/core/frame.py\u001b[0m in \u001b[0;36m__init__\u001b[1;34m(self, source, name, _info)\u001b[0m\n\u001b[0;32m   1035\u001b[0m             \u001b[0m_BaseFrame\u001b[0m\u001b[1;33m.\u001b[0m\u001b[0m__init__\u001b[0m\u001b[1;33m(\u001b[0m\u001b[0mself\u001b[0m\u001b[1;33m)\u001b[0m\u001b[1;33m\u001b[0m\u001b[0m\n\u001b[0;32m   1036\u001b[0m             \u001b[0mnew_frame_name\u001b[0m \u001b[1;33m=\u001b[0m \u001b[0mself\u001b[0m\u001b[1;33m.\u001b[0m\u001b[0m_backend\u001b[0m\u001b[1;33m.\u001b[0m\u001b[0mcreate\u001b[0m\u001b[1;33m(\u001b[0m\u001b[0mself\u001b[0m\u001b[1;33m,\u001b[0m \u001b[0msource\u001b[0m\u001b[1;33m,\u001b[0m \u001b[0mname\u001b[0m\u001b[1;33m,\u001b[0m \u001b[0m_info\u001b[0m\u001b[1;33m)\u001b[0m\u001b[1;33m\u001b[0m\u001b[0m\n\u001b[1;32m-> 1037\u001b[1;33m             \u001b[0mlogger\u001b[0m\u001b[1;33m.\u001b[0m\u001b[0minfo\u001b[0m\u001b[1;33m(\u001b[0m\u001b[1;34m'Created new frame \"%s\"'\u001b[0m\u001b[1;33m,\u001b[0m \u001b[0mnew_frame_name\u001b[0m\u001b[1;33m)\u001b[0m\u001b[1;33m\u001b[0m\u001b[0m\n\u001b[0m\u001b[0;32m   1038\u001b[0m \u001b[1;33m\u001b[0m\u001b[0m\n\u001b[0;32m   1039\u001b[0m     \u001b[1;33m@\u001b[0m\u001b[0mapi\u001b[0m\u001b[1;33m\u001b[0m\u001b[0m\n",
        "\u001b[1;32m/usr/lib/python2.7/site-packages/intelanalytics/meta/api.py\u001b[0m in \u001b[0;36m__exit__\u001b[1;34m(self, exception_type, exception_value, traceback)\u001b[0m\n\u001b[0;32m     85\u001b[0m \u001b[1;33m\u001b[0m\u001b[0m\n\u001b[0;32m     86\u001b[0m \u001b[1;33m\u001b[0m\u001b[0m\n\u001b[1;32m---> 87\u001b[1;33m             \u001b[1;32mraise\u001b[0m \u001b[0merror\u001b[0m  \u001b[1;31m# see intelanalytics.errors.last for details\u001b[0m\u001b[1;33m\u001b[0m\u001b[0m\n\u001b[0m\u001b[0;32m     88\u001b[0m \u001b[1;33m\u001b[0m\u001b[0m\n\u001b[0;32m     89\u001b[0m \u001b[1;33m\u001b[0m\u001b[0m\n",
        "\u001b[1;31mCommandServerError\u001b[0m: No file found at path hdfs://master.css-gao-poc4.cluster.gao:8020/user/hadoop/graphflow/vast/topic_graph.csv (command: 185, corId: a4a2d2d8-20fa-4857-8ce3-f24580cc606e)"
       ]
      }
     ],
     "prompt_number": 6
    },
    {
     "cell_type": "code",
     "collapsed": false,
     "input": [],
     "language": "python",
     "metadata": {},
     "outputs": []
    }
   ],
   "metadata": {}
  }
 ]
}