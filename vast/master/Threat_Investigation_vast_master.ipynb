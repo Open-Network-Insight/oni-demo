{
 "cells": [
  {
   "cell_type": "code",
   "execution_count": 39,
   "metadata": {
    "collapsed": false
   },
   "outputs": [],
   "source": [
    "import struct, socket\n",
    "import numpy as np\n",
    "import linecache, bisect\n",
    "import csv\n",
    "import operator\n",
    "\n",
    "contxtpath = '/home/hadoop/ipython/vast/iploc/'\n",
    "iploc = contxtpath + 'iploc.csv'\n",
    "nwloc = contxtpath + 'networkcontext.txt'\n",
    "\n",
    "spath = '/home/hadoop/ipython/vast/user/vast/'\n",
    "#sconnect = spath + 'lda_scores_20140708.csv'\n",
    "#sconnectbu = spath + 'lda_scores_20140708_bu.csv'"
   ]
  },
  {
   "cell_type": "code",
   "execution_count": 53,
   "metadata": {
    "collapsed": false
   },
   "outputs": [],
   "source": []
  },
  {
   "cell_type": "code",
   "execution_count": 43,
   "metadata": {
    "collapsed": false
   },
   "outputs": [
    {
     "name": "stdout",
     "output_type": "stream",
     "text": [
      "\"set hive.cli.print.header=true;SELECT min(parseddate) as firstSeen, max(parseddate) as lastSeen, firstseensrcip as srcIP, firstseendestip as dstIP, firstseensrcport as SPort, firstseensrcport AS Dport, count(firstseensrcip) as conns, max(firstseendestpacketcount) as maxPkts, avg(firstseendestpacketcount) as avgPkts, max(firstseendestpayloadbytes) as maxBytes, avg(firstseendestpayloadbytes) as avgBytes FROM vast_netflow WHERE (firstseensrcip ='10.9.81.5'  OR firstseendestip='10.9.81.5') GROUP BY firstseensrcip, firstseendestip,firstseensrcport,firstseendestport\"  > /home/hadoop/ipython/vast/user/vast/ir-10_9_81_5.tsv\n",
      "15/04/21 23:12:56 WARN conf.HiveConf: DEPRECATED: Configuration property hive.metastore.local no longer has any effect. Make sure to provide a valid value for hive.metastore.uris if you are connecting to a remote metastore.\n"
     ]
    }
   ],
   "source": [
    "#set anchor IP (focus of investigation)\n",
    "# summary query for all IP addresses on all ports that connected with anchor IP\n",
    "anchor_ip = '10.9.81.5'\n",
    "ir_f = spath + \"ir-\" + anchor_ip.replace(\".\",\"_\") + \".tsv\"\n",
    "dy ='6'\n",
    "hivestr =  (\"\\\"set hive.cli.print.header=true;SELECT \" + \n",
    "\"min(parseddate) as firstSeen, max(parseddate) as lastSeen, \" + \n",
    "\"firstseensrcip as srcIP, firstseendestip as dstIP, \" + \n",
    "\"firstseensrcport as SPort, firstseensrcport AS Dport, \" +\n",
    "\"count(firstseensrcip) as conns, max(firstseendestpacketcount) as maxPkts, \" +\n",
    "\"avg(firstseendestpacketcount) as avgPkts, \" +\n",
    "\"max(firstseendestpayloadbytes) as maxBytes, \" +\n",
    "\"avg(firstseendestpayloadbytes) as avgBytes \" +\n",
    "\"FROM vast_netflow WHERE day(parseddate)=\" +dy+\" AND \" + \n",
    "\"(firstseensrcip =\\'\" + anchor_ip + \"\\'  OR firstseendestip=\\'\" + anchor_ip + \"\\') \" +\n",
    "\"GROUP BY firstseensrcip, firstseendestip,firstseensrcport,firstseendestport\\\"  > \" + ir_f)\n",
    "print hivestr\n",
    "!hive -S -e $hivestr\n"
   ]
  },
  {
   "cell_type": "code",
   "execution_count": 44,
   "metadata": {
    "collapsed": false
   },
   "outputs": [],
   "source": [
    "# calculate number of inbound only, two-way, and outbound only\n",
    "# build dict of IP addresses\n",
    "#firstSeen,lastSeen,srcIP, dstIP, sport,dport,conns, maxPkts, avgPkts,maxBytes, avgBytes\n",
    "srcdict = {}\n",
    "dstdict = {}\n",
    "with open(ir_f, 'r') as f:\n",
    "    reader = csv.reader(f,delimiter='\\t') \n",
    "    reader.next();\n",
    "    rowct = 1\n",
    "    for row in reader:\n",
    "        srcdict[row[2]] = struct.unpack(\"!L\", socket.inet_aton(row[2]))[0]\n",
    "        dstdict[row[3]] = struct.unpack(\"!L\", socket.inet_aton(row[3]))[0]\n",
    "        rowct += 1\n",
    "inbound = {};\n",
    "outbound = {};\n",
    "twoway = {};\n",
    "for result in srcdict:\n",
    "    if result in dstdict:\n",
    "        twoway[result] = srcdict[result]\n",
    "    else:\n",
    "        outbound[result] = srcdict[result]\n",
    "for result in dstdict:\n",
    "    \n",
    "    if result not in srcdict:\n",
    "        inbound[result] = dstdict[result]  \n",
    "   "
   ]
  },
  {
   "cell_type": "code",
   "execution_count": 52,
   "metadata": {
    "collapsed": false
   },
   "outputs": [
    {
     "name": "stdout",
     "output_type": "stream",
     "text": [
      "[]\n",
      "['10.9.81.5', '172.10.0.40', '172.30.0.4', '172.10.0.3', '172.30.0.6']\n",
      "11\n",
      "['172.30.0.7', '172.30.0.5', '172.10.0.9', '172.10.0.8', '172.20.0.6', '172.10.0.5', '172.10.0.4', '172.10.0.7', '172.10.0.2', '172.30.0.3', '172.30.0.2']\n"
     ]
    }
   ],
   "source": [
    "print outbound.keys()\n",
    "print twoway.keys()\n",
    "print len(inbound)\n",
    "print inbound.keys()"
   ]
  },
  {
   "cell_type": "code",
   "execution_count": 18,
   "metadata": {
    "collapsed": false
   },
   "outputs": [
    {
     "ename": "IOError",
     "evalue": "[Errno 2] No such file or directory: '/home/hadoop/ipython/vast/iploc/iploc.csv'",
     "output_type": "error",
     "traceback": [
      "\u001b[1;31m---------------------------------------------------------------------------\u001b[0m",
      "\u001b[1;31mIOError\u001b[0m                                   Traceback (most recent call last)",
      "\u001b[1;32m<ipython-input-18-b6a3a9f52ce3>\u001b[0m in \u001b[0;36m<module>\u001b[1;34m()\u001b[0m\n\u001b[0;32m      2\u001b[0m \u001b[1;31m# load fromIP into ndarray\u001b[0m\u001b[1;33m\u001b[0m\u001b[1;33m\u001b[0m\u001b[0m\n\u001b[0;32m      3\u001b[0m iplist = np.loadtxt(iploc,dtype=np.uint32,delimiter=',',usecols={0},\n\u001b[1;32m----> 4\u001b[1;33m                     converters={0: lambda s: np.uint32(s.replace('\"',''))})\n\u001b[0m\u001b[0;32m      5\u001b[0m \u001b[1;31m# get geospatial info\u001b[0m\u001b[1;33m\u001b[0m\u001b[1;33m\u001b[0m\u001b[0m\n\u001b[0;32m      6\u001b[0m \u001b[1;32mfor\u001b[0m \u001b[0msrcip\u001b[0m \u001b[1;32min\u001b[0m \u001b[0moutbound\u001b[0m\u001b[1;33m:\u001b[0m\u001b[1;33m\u001b[0m\u001b[0m\n",
      "\u001b[1;32m/usr/lib/python2.7/site-packages/numpy/lib/npyio.pyc\u001b[0m in \u001b[0;36mloadtxt\u001b[1;34m(fname, dtype, comments, delimiter, converters, skiprows, usecols, unpack, ndmin)\u001b[0m\n\u001b[0;32m    732\u001b[0m                 \u001b[0mfh\u001b[0m \u001b[1;33m=\u001b[0m \u001b[0miter\u001b[0m\u001b[1;33m(\u001b[0m\u001b[0mbz2\u001b[0m\u001b[1;33m.\u001b[0m\u001b[0mBZ2File\u001b[0m\u001b[1;33m(\u001b[0m\u001b[0mfname\u001b[0m\u001b[1;33m)\u001b[0m\u001b[1;33m)\u001b[0m\u001b[1;33m\u001b[0m\u001b[0m\n\u001b[0;32m    733\u001b[0m             \u001b[1;32melif\u001b[0m \u001b[0msys\u001b[0m\u001b[1;33m.\u001b[0m\u001b[0mversion_info\u001b[0m\u001b[1;33m[\u001b[0m\u001b[1;36m0\u001b[0m\u001b[1;33m]\u001b[0m \u001b[1;33m==\u001b[0m \u001b[1;36m2\u001b[0m\u001b[1;33m:\u001b[0m\u001b[1;33m\u001b[0m\u001b[0m\n\u001b[1;32m--> 734\u001b[1;33m                 \u001b[0mfh\u001b[0m \u001b[1;33m=\u001b[0m \u001b[0miter\u001b[0m\u001b[1;33m(\u001b[0m\u001b[0mopen\u001b[0m\u001b[1;33m(\u001b[0m\u001b[0mfname\u001b[0m\u001b[1;33m,\u001b[0m \u001b[1;34m'U'\u001b[0m\u001b[1;33m)\u001b[0m\u001b[1;33m)\u001b[0m\u001b[1;33m\u001b[0m\u001b[0m\n\u001b[0m\u001b[0;32m    735\u001b[0m             \u001b[1;32melse\u001b[0m\u001b[1;33m:\u001b[0m\u001b[1;33m\u001b[0m\u001b[0m\n\u001b[0;32m    736\u001b[0m                 \u001b[0mfh\u001b[0m \u001b[1;33m=\u001b[0m \u001b[0miter\u001b[0m\u001b[1;33m(\u001b[0m\u001b[0mopen\u001b[0m\u001b[1;33m(\u001b[0m\u001b[0mfname\u001b[0m\u001b[1;33m)\u001b[0m\u001b[1;33m)\u001b[0m\u001b[1;33m\u001b[0m\u001b[0m\n",
      "\u001b[1;31mIOError\u001b[0m: [Errno 2] No such file or directory: '/home/hadoop/ipython/vast/iploc/iploc.csv'"
     ]
    }
   ],
   "source": [
    "# load IP location information -- LONG step\n",
    "# load fromIP into ndarray\n",
    "iplist = np.loadtxt(iploc,dtype=np.uint32,delimiter=',',usecols={0},\n",
    "                    converters={0: lambda s: np.uint32(s.replace('\"',''))})\n",
    "# get geospatial info\n",
    "for srcip in outbound:\n",
    "    outbound[srcip] = linecache.getline(iploc, bisect.bisect(iplist,outbound[srcip]))\n",
    "print \"outbound connections located.\"\n",
    "for dstip in twoway:\n",
    "        twoway[dstip] = linecache.getline(iploc, bisect.bisect(iplist,twoway[dstip]))\n",
    "print \"twoway connections located.\"\n",
    "for srcip in inbound:\n",
    "        inbound[srcip] = linecache.getline(iploc, bisect.bisect(iplist,inbound[srcip]))\n",
    "print \"inbound connections located.\"\n",
    "#print outbound\n",
    "#print twoway"
   ]
  },
  {
   "cell_type": "code",
   "execution_count": 123,
   "metadata": {
    "collapsed": false
   },
   "outputs": [
    {
     "name": "stdout",
     "output_type": "stream",
     "text": [
      "{'146.185.239.104': '\"2461658880\",\"2461659135\",\"LU\",\"Luxembourg\",\"Luxembourg\",\"Luxembourg\",\"49.611670\",\"6.130000\",\"Cubehost\",\"-\"\\n'}\n"
     ]
    }
   ],
   "source": [
    "print inbound"
   ]
  },
  {
   "cell_type": "code",
   "execution_count": 19,
   "metadata": {
    "collapsed": false
   },
   "outputs": [
    {
     "name": "stdout",
     "output_type": "stream",
     "text": [
      "outbound connections located.\n"
     ]
    },
    {
     "ename": "NameError",
     "evalue": "name 'iplist' is not defined",
     "output_type": "error",
     "traceback": [
      "\u001b[1;31m---------------------------------------------------------------------------\u001b[0m",
      "\u001b[1;31mNameError\u001b[0m                                 Traceback (most recent call last)",
      "\u001b[1;32m<ipython-input-19-3ec15e88a155>\u001b[0m in \u001b[0;36m<module>\u001b[1;34m()\u001b[0m\n\u001b[0;32m     29\u001b[0m \u001b[1;32mprint\u001b[0m \u001b[1;34m\"outbound connections located.\"\u001b[0m\u001b[1;33m\u001b[0m\u001b[0m\n\u001b[0;32m     30\u001b[0m \u001b[1;32mfor\u001b[0m \u001b[0mdstip\u001b[0m \u001b[1;32min\u001b[0m \u001b[0mtwoway\u001b[0m\u001b[1;33m:\u001b[0m\u001b[1;33m\u001b[0m\u001b[0m\n\u001b[1;32m---> 31\u001b[1;33m         \u001b[0mnwtwoway\u001b[0m\u001b[1;33m[\u001b[0m\u001b[0mdstip\u001b[0m\u001b[1;33m]\u001b[0m \u001b[1;33m=\u001b[0m \u001b[0mlinecache\u001b[0m\u001b[1;33m.\u001b[0m\u001b[0mgetline\u001b[0m\u001b[1;33m(\u001b[0m\u001b[0mnwloc\u001b[0m\u001b[1;33m,\u001b[0m \u001b[0mbisect\u001b[0m\u001b[1;33m.\u001b[0m\u001b[0mbisect\u001b[0m\u001b[1;33m(\u001b[0m\u001b[0miplist\u001b[0m\u001b[1;33m,\u001b[0m\u001b[0mtwoway\u001b[0m\u001b[1;33m[\u001b[0m\u001b[0mdstip\u001b[0m\u001b[1;33m]\u001b[0m\u001b[1;33m)\u001b[0m\u001b[1;33m)\u001b[0m\u001b[1;33m\u001b[0m\u001b[0m\n\u001b[0m\u001b[0;32m     32\u001b[0m \u001b[1;32mprint\u001b[0m \u001b[1;34m\"twoway connections located.\"\u001b[0m\u001b[1;33m\u001b[0m\u001b[0m\n\u001b[0;32m     33\u001b[0m \u001b[1;32mfor\u001b[0m \u001b[0msrcip\u001b[0m \u001b[1;32min\u001b[0m \u001b[0minbound\u001b[0m\u001b[1;33m:\u001b[0m\u001b[1;33m\u001b[0m\u001b[0m\n",
      "\u001b[1;31mNameError\u001b[0m: name 'iplist' is not defined"
     ]
    }
   ],
   "source": [
    "# need some way to combine timelines of outbound and two-way with big picture inbound only\n",
    "\n",
    "# get network context - get start and end ranges\n",
    "## need to write to updated file\n",
    "with open(nwloc, 'r') as f:\n",
    "    reader = csv.reader(f,delimiter=',') \n",
    "    #reader.next()\n",
    "    nwdict = {}\n",
    "    rowct = 1\n",
    "    #address range, description\n",
    "    for row in reader:\n",
    "        iprange = row[0].split('/')\n",
    "        if len(iprange) < 2:\n",
    "            ipend = 0\n",
    "        else:\n",
    "            ipend = int(iprange[1])\n",
    "        nwdict[row[0]] = [struct.unpack(\"!L\", socket.inet_aton(iprange[0]))[0],\n",
    "                          struct.unpack(\"!L\", socket.inet_aton(iprange[0]))[0]+2**(32-ipend)-1,\n",
    "                          row[1]]\n",
    "        #dstdict[row[3]] = struct.unpack(\"!L\", socket.inet_aton(row[3]))[0]\n",
    "        rowct += 1\n",
    " \n",
    "# get geospatial info\n",
    "nwoutbound = {}\n",
    "nwtwoway = {}\n",
    "nwinbound = {}\n",
    "for srcip in outbound:\n",
    "        nwoutbound[srcip] = linecache.getline(nwloc, bisect.bisect(iplist,outbound[srcip]))\n",
    "print \"outbound connections located.\"\n",
    "for dstip in twoway:\n",
    "        nwtwoway[dstip] = linecache.getline(nwloc, bisect.bisect(iplist,twoway[dstip]))\n",
    "print \"twoway connections located.\"\n",
    "for srcip in inbound:\n",
    "        nwinbound[srcip] = linecache.getline(nwloc, bisect.bisect(iplist,inbound[srcip]))\n",
    "print \"inbound connections located.\"\n",
    "\n"
   ]
  },
  {
   "cell_type": "code",
   "execution_count": null,
   "metadata": {
    "collapsed": false
   },
   "outputs": [],
   "source": [
    "print nwoutbound"
   ]
  },
  {
   "cell_type": "code",
   "execution_count": null,
   "metadata": {
    "collapsed": false
   },
   "outputs": [],
   "source": [
    "# how many bytes were exchanged\n",
    "\n",
    "# detail query for two-way and outbound only\n",
    "\"set hive.cli.print.header=true;SELECT tstart, tend, sip as srcIP, \n",
    "dip as dstIP, proto as Proto, sport as SPort, dport AS Dport,ipkt as \n",
    "Pkts, ibyt as Bytes  FROM netflow_20140708 WHERE \n",
    "(dip IN('213.190.153.47','10.128.30.62','134.191.242.7','134.191.236.133',\n",
    "        '174.139.113.58','134.191.236.140','134.191.240.76','134.191.240.74',\n",
    "        '134.191.241.36','134.191.240.112', '134.191.240.68','134.191.240.106')\n",
    " AND sip ='174.139.113.58') OR \n",
    "(sip IN('213.190.153.47','10.128.30.62','134.191.242.7','134.191.236.133',\n",
    "        '174.139.113.58','134.191.236.140','134.191.240.76','134.191.240.74',\n",
    "        '134.191.241.36','134.191.240.112', '134.191.240.68','134.191.240.106') \n",
    " AND dip ='174.139.113.58') SORT BY tstart\"  > /home/hadoop/ipython/user/gbabb/sbdet-174_139_113_58.tsv"
   ]
  },
  {
   "cell_type": "markdown",
   "metadata": {},
   "source": [
    "<h4> Save for Storyboard </h4>"
   ]
  },
  {
   "cell_type": "code",
   "execution_count": null,
   "metadata": {
    "collapsed": false
   },
   "outputs": [],
   "source": [
    "# push to json  worldmap\n",
    "for srcip in twoway:\n",
    "    row =  twoway[srcip].replace('\"','').split(',')\n",
    "    #print row  #row[7],row[6],\n",
    "    elem = (\"{ \\\"type\\\": \\\"Feature\\\",\\\"properties\\\":{\\\"location\\\":\\\"\" + row[8] + \"\\\"\" +\n",
    "    \",\\\"ip\\\":\\\"\"+srcip+\"\\\",\\\"type\\\":1}, \\\"geometry\\\": { \\\"type\\\": \\\"Point\\\", \\\"coordinates\\\": \" +\n",
    "    \"[\"+row[7]+\",\"+ row[6]+\" ] } }\\n,\")\n",
    "    #print elem\n",
    "rowct = 1\n",
    "for srcip in inbound:\n",
    "    #print inbound[srcip]\n",
    "    row =  inbound[srcip].replace('\"','').split(',')\n",
    "    #create hash of iploc and only print unique ones\n",
    "    if len(row) > 8 and (rowct>=100001 and rowct <= 103000):\n",
    "        elem = (\"{ \\\"type\\\": \\\"Feature\\\",\\\"properties\\\":{\\\"location\\\":\\\"\" + row[8] + \"\\\"\" +\n",
    "        \",\\\"ip\\\":\\\"\"+srcip+\"\\\",\\\"type\\\":2}, \\\"geometry\\\": { \\\"type\\\": \\\"Point\\\", \\\"coordinates\\\": \" +\n",
    "        \"[\"+row[7]+\",\"+ row[6]+\" ] } }\\n,\")\n",
    "        print elem\n",
    "    rowct += 1\n",
    "    \n"
   ]
  },
  {
   "cell_type": "code",
   "execution_count": null,
   "metadata": {
    "collapsed": false
   },
   "outputs": [],
   "source": [
    "# record analysis\n",
    "# push to json file(s) - file names for event timeline, worldmap, dendrogram\n"
   ]
  },
  {
   "cell_type": "code",
   "execution_count": 55,
   "metadata": {
    "collapsed": false,
    "scrolled": true
   },
   "outputs": [
    {
     "name": "stdout",
     "output_type": "stream",
     "text": [
      "\"set hive.cli.print.header=true;SELECT parseddate as firstseen, firstseensrcip as srcip, firstseendestip as dstip, firstseensrcport as sport, firstseendestport AS dport, firstseendestpacketcount as pkts, firstseendestpayloadbytes as bytes FROM vast_netflow WHERE (firstseensrcip ='10.9.81.5'  OR firstseendestip='10.9.81.5')  LIMIT 50000  \"  > /home/hadoop/ipython/vast/user/vast/sbdet-10_9_81_5.tsv\n",
      "15/04/21 23:29:17 WARN conf.HiveConf: DEPRECATED: Configuration property hive.metastore.local no longer has any effect. Make sure to provide a valid value for hive.metastore.uris if you are connecting to a remote metastore.\n"
     ]
    }
   ],
   "source": [
    "#timeline query\n",
    "anchor_ip = '10.9.81.5'\n",
    "dy = '14'\n",
    "sb_f = spath + \"sbdet-\" + anchor_ip.replace(\".\",\"_\") + \".tsv\"\n",
    "\n",
    "hivestr =  (\"\\\"set hive.cli.print.header=true;SELECT \" + \n",
    "\"parseddate as firstseen, firstseensrcip as srcip, firstseendestip as dstip, \" + \n",
    "\"firstseensrcport as sport, firstseendestport AS dport, \" +\n",
    "\"firstseendestpacketcount as pkts, firstseendestpayloadbytes as bytes \" +\n",
    "\"FROM vast_netflow WHERE \"#day(parseddate)=\" +dy+\" AND \" + \n",
    "\"(firstseensrcip =\\'\" + anchor_ip + \"\\'  OR firstseendestip=\\'\" + anchor_ip + \"\\')\" + \n",
    "\"  LIMIT 50000  \\\"  > \" + sb_f)\n",
    "print hivestr\n",
    "!hive -S -e $hivestr"
   ]
  },
  {
   "cell_type": "code",
   "execution_count": 53,
   "metadata": {
    "collapsed": false
   },
   "outputs": [
    {
     "name": "stdout",
     "output_type": "stream",
     "text": [
      "/home/hadoop/ipython/vast/user/vast/ir-10_9_81_5.tsv\n",
      "150001 /home/hadoop/ipython/vast/user/vast/sbdet-10_9_81_5.tsv\n",
      "firstseen\tsrcip\tdstip\tsport\tdport\tpkts\tbytes\n",
      "2013-04-06 11:19:46\t10.9.81.5\t172.30.0.3\t51358\t58513\t0\t0\n",
      "2013-04-06 11:19:46\t10.9.81.5\t172.30.0.2\t51358\t7740\t0\t0\n",
      "2013-04-06 11:19:46\t10.9.81.5\t172.30.0.3\t51358\t54923\t0\t0\n",
      "2013-04-06 11:19:46\t10.9.81.5\t172.30.0.2\t51358\t46183\t0\t0\n",
      "2013-04-06 11:19:46\t10.9.81.5\t172.30.0.3\t51358\t30608\t0\t0\n",
      "2013-04-06 11:19:46\t10.9.81.5\t172.30.0.2\t51358\t17046\t0\t0\n",
      "2013-04-06 11:19:46\t10.9.81.5\t172.30.0.3\t51358\t49412\t0\t0\n",
      "2013-04-06 11:19:46\t10.9.81.5\t172.30.0.2\t51358\t27451\t0\t0\n",
      "2013-04-06 11:19:46\t10.9.81.5\t172.30.0.3\t51358\t55947\t0\t0\n"
     ]
    }
   ],
   "source": [
    "!echo $ir_f\n",
    "!wc -l $sb_f\n",
    "!head -n 10 $sb_f"
   ]
  },
  {
   "cell_type": "code",
   "execution_count": null,
   "metadata": {
    "collapsed": true
   },
   "outputs": [],
   "source": []
  }
 ],
 "metadata": {
  "kernelspec": {
   "display_name": "Python 2",
   "language": "python",
   "name": "python2"
  },
  "language_info": {
   "codemirror_mode": {
    "name": "ipython",
    "version": 2
   },
   "file_extension": ".py",
   "mimetype": "text/x-python",
   "name": "python",
   "nbconvert_exporter": "python",
   "pygments_lexer": "ipython2",
   "version": "2.7.5"
  }
 },
 "nbformat": 4,
 "nbformat_minor": 0
}
