{
 "metadata": {
  "name": "",
  "signature": "sha256:931b0713e8c82dacc6f621dd711eaa78521be0a21d13d2790ded47573018311b"
 },
 "nbformat": 3,
 "nbformat_minor": 0,
 "worksheets": []
}