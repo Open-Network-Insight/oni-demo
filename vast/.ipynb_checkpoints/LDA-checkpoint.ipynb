{
 "metadata": {
  "name": "",
  "signature": "sha256:a763816901cf75592e0222ebbcf93acdcb892aa457c1ee5d6fa3ad7d125ca50b"
 },
 "nbformat": 3,
 "nbformat_minor": 0,
 "worksheets": [
  {
   "cells": [
    {
     "cell_type": "code",
     "collapsed": false,
     "input": [
      "import csv\n",
      "import json\n",
      "import numpy as np\n",
      "import socket,struct\n",
      "import matplotlib.pyplot as plt\n",
      "%matplotlib inline\n",
      "import intelanalytics as ia\n",
      "\n",
      "print 'libraries loaded'\n",
      "ia.connect()"
     ],
     "language": "python",
     "metadata": {},
     "outputs": [
      {
       "output_type": "stream",
       "stream": "stdout",
       "text": [
        "libraries loaded\n",
        "Already connected to intelanalytics server.\n"
       ]
      }
     ],
     "prompt_number": 36
    },
    {
     "cell_type": "code",
     "collapsed": false,
     "input": [
      "# create a graph with src ip -> src port , dst_ip -> dst port\n",
      "dataset = r\"../hadoop/graphflow/vast/topic_graph.csv\"\n",
      "\n",
      "schema = [('srcip', str),('dstip', str), ('sport', str),  ('dport', ia.int32), \n",
      "('fs_srcbyte', ia.float32),('fs_dstbyte', ia.float32),('tot_srcbyte', ia.float32),('tot_dstbyte', ia.float32),\n",
      "('fs_srcpkt', ia.float32),('fs_dstpkt', ia.float32)]\n",
      "\n",
      "csv_file = ia.CsvFile(dataset, schema, skip_header_lines = 0)\n",
      "\n",
      "print(\"Creating DataFrame\")\n",
      "\n",
      "f = ia.Frame(csv_file)\n"
     ],
     "language": "python",
     "metadata": {},
     "outputs": [
      {
       "output_type": "stream",
       "stream": "stdout",
       "text": [
        "Creating DataFrame\n",
        "\r",
        "initializing..."
       ]
      },
      {
       "output_type": "stream",
       "stream": "stdout",
       "text": [
        "\r",
        "initializing..."
       ]
      },
      {
       "output_type": "stream",
       "stream": "stdout",
       "text": [
        "\r",
        "initializing..."
       ]
      },
      {
       "output_type": "stream",
       "stream": "stdout",
       "text": [
        "\r",
        "initializing..."
       ]
      },
      {
       "output_type": "stream",
       "stream": "stdout",
       "text": [
        "\r",
        "[.........................]   0.12% Tasks retries:0 Time 0:00:00"
       ]
      },
      {
       "output_type": "stream",
       "stream": "stdout",
       "text": [
        "\r",
        "[=........................]   5.62% Tasks retries:0 Time 0:00:02"
       ]
      },
      {
       "output_type": "stream",
       "stream": "stdout",
       "text": [
        "\r",
        "[=........................]   7.62% Tasks retries:0 Time 0:00:04"
       ]
      },
      {
       "output_type": "stream",
       "stream": "stdout",
       "text": [
        "\r",
        "[==.......................]  10.25% Tasks retries:0 Time 0:00:06"
       ]
      },
      {
       "output_type": "stream",
       "stream": "stdout",
       "text": [
        "\r",
        "[===......................]  12.56% Tasks retries:0 Time 0:00:08"
       ]
      },
      {
       "output_type": "stream",
       "stream": "stdout",
       "text": [
        "\r",
        "[===......................]  12.56% Tasks retries:0 Time 0:00:10"
       ]
      },
      {
       "output_type": "stream",
       "stream": "stdout",
       "text": [
        "\r",
        "[====.....................]  18.38% Tasks retries:0 Time 0:00:12"
       ]
      },
      {
       "output_type": "stream",
       "stream": "stdout",
       "text": [
        "\r",
        "[=========................]  37.56% Tasks retries:0 Time 0:00:14"
       ]
      },
      {
       "output_type": "stream",
       "stream": "stdout",
       "text": [
        "\r",
        "[==========...............]  43.38% Tasks retries:0 Time 0:00:16"
       ]
      },
      {
       "output_type": "stream",
       "stream": "stdout",
       "text": [
        "\r",
        "[============.............]  50.12% Tasks retries:0 Time 0:00:18"
       ]
      },
      {
       "output_type": "stream",
       "stream": "stdout",
       "text": [
        "\r",
        "[============.............]  51.35% Tasks retries:0 Time 0:00:20"
       ]
      },
      {
       "output_type": "stream",
       "stream": "stdout",
       "text": [
        "\r",
        "[===============..........]  61.76% Tasks retries:0 Time 0:00:22"
       ]
      },
      {
       "output_type": "stream",
       "stream": "stdout",
       "text": [
        "\r",
        "[===============..........]  62.62% Tasks retries:0 Time 0:00:24"
       ]
      },
      {
       "output_type": "stream",
       "stream": "stdout",
       "text": [
        "\r",
        "[===============..........]  62.87% Tasks retries:0 Time 0:00:26"
       ]
      },
      {
       "output_type": "stream",
       "stream": "stdout",
       "text": [
        "\r",
        "[==================.......]  73.41% Tasks retries:0 Time 0:00:28"
       ]
      },
      {
       "output_type": "stream",
       "stream": "stdout",
       "text": [
        "\r",
        "[==================.......]  74.51% Tasks retries:0 Time 0:00:30"
       ]
      },
      {
       "output_type": "stream",
       "stream": "stdout",
       "text": [
        "\r",
        "[==================.......]  74.51% Tasks retries:0 Time 0:00:32"
       ]
      },
      {
       "output_type": "stream",
       "stream": "stdout",
       "text": [
        "\r",
        "[==================.......]  74.51% Tasks retries:0 Time 0:00:34"
       ]
      },
      {
       "output_type": "stream",
       "stream": "stdout",
       "text": [
        "\r",
        "[==================.......]  74.51% Tasks retries:0 Time 0:00:36"
       ]
      },
      {
       "output_type": "stream",
       "stream": "stdout",
       "text": [
        "\r",
        "[==================.......]  74.51% Tasks retries:0 Time 0:00:38"
       ]
      },
      {
       "output_type": "stream",
       "stream": "stdout",
       "text": [
        "\r",
        "[==================.......]  74.51% Tasks retries:0 Time 0:00:40"
       ]
      },
      {
       "output_type": "stream",
       "stream": "stdout",
       "text": [
        "\r",
        "[==================.......]  74.51% Tasks retries:0 Time 0:00:42"
       ]
      },
      {
       "output_type": "stream",
       "stream": "stdout",
       "text": [
        "\r",
        "[==================.......]  74.51% Tasks retries:0 Time 0:00:44"
       ]
      },
      {
       "output_type": "stream",
       "stream": "stdout",
       "text": [
        "\r",
        "[=========================] 100.00% Tasks retries:0 Time 0:00:46\n"
       ]
      }
     ],
     "prompt_number": 45
    },
    {
     "cell_type": "markdown",
     "metadata": {},
     "source": [
      "<p>If you aren't familiar with all the parameters for the LDA algorithm, execute the cell below to explore them.</p>"
     ]
    },
    {
     "cell_type": "code",
     "collapsed": false,
     "input": [
      "print f.inspect(20)\n",
      "ia.LdaModel.train?\n"
     ],
     "language": "python",
     "metadata": {},
     "outputs": [
      {
       "output_type": "stream",
       "stream": "stdout",
       "text": [
        "  srcip:unicode   dstip:unicode   sport:int32   dport:int32   fs_srcbyte:float32   fs_dstbyte:float32   tot_srcbyte:float32   tot_dstbyte:float32   fs_srcpkt:float32   fs_dstpkt:float32  \n",
        "-------------------------------------------------------------------------------------------------------------------------------------------------------------------------------------------\n",
        "  10.0.0.10       172.10.1.100             80         23333                409.0                176.0                 633.0                 392.0                 4.0                 4.0  \n",
        "  10.0.0.10       172.10.1.100             80         34484             104880.0                  0.0              108984.0                2694.0                76.0                47.0  \n",
        "  10.0.0.10       172.10.1.108             80          2703                  0.0                  0.0                  54.0                   0.0                 1.0                 0.0  \n",
        "  10.0.0.10       172.10.1.112             80          2510            2949004.0                  0.0             3064402.0               75130.0              2137.0              1319.0  \n",
        "  10.0.0.10       172.10.1.113             80          3115            1734160.0                  0.0             1802146.0               44520.0              1259.0               780.0  \n",
        "  10.0.0.10       172.10.1.113             80          4744                  0.0                  0.0                  54.0                   0.0                 1.0                 0.0  \n",
        "  10.0.0.10       172.10.1.123             80          2286                  0.0                  0.0                  54.0                   0.0                 1.0                 0.0  \n",
        "  10.0.0.10       172.10.1.124             80          3557                  0.0                  0.0                  54.0                   0.0                 1.0                 0.0  \n",
        "  10.0.0.10       172.10.1.137             80          1456             876472.0                  0.0              910816.0               23456.0               636.0               414.0  \n",
        "  10.0.0.10       172.10.1.155             80          2395             115776.0                  0.0              127440.0                8888.0               216.0               160.0  \n",
        "  10.0.0.10       172.10.1.168             80          1770                  0.0                  0.0                  54.0                   0.0                 1.0                 0.0  \n",
        "  10.0.0.10       172.10.1.172             80          2198                409.0                  0.0                 571.0                 108.0                 3.0                 2.0  \n",
        "  10.0.0.10       172.10.1.18              80          4274                409.0                176.0                 633.0                 392.0                 4.0                 4.0  \n",
        "  10.0.0.10       172.10.1.198             80          2964            1299462.0                  0.0             1350438.0               33096.0               944.0               592.0  \n",
        "  10.0.0.10       172.10.1.203             80         23623                409.0                176.0                 633.0                 392.0                 4.0                 4.0  \n",
        "  10.0.0.10       172.10.1.206             80          5701                  0.0                  0.0                  54.0                   0.0                 1.0                 0.0  \n",
        "  10.0.0.10       172.10.1.211             80         55712                409.0                176.0                 633.0                 392.0                 4.0                 4.0  \n",
        "  10.0.0.10       172.10.1.212             80         14854                  0.0                  0.0                  54.0                   0.0                 1.0                 0.0  \n",
        "  10.0.0.10       172.10.1.214             80          9485                  0.0                  0.0                  54.0                   0.0                 1.0                 0.0  \n",
        "  10.0.0.10       172.10.1.215             80         24751                409.0                176.0                 633.0                 392.0                 4.0                 4.0  \n"
       ]
      }
     ],
     "prompt_number": 44
    },
    {
     "cell_type": "markdown",
     "metadata": {},
     "source": [
      "<p>The following cell attempts to find topics based on the outgoing communication from a source port to a destination port.  For automated behavior that might indicate an attack, this is the most likely vector to consider in the model, and it corresponds to the \"to_port\" type of edge in the graph.</p>"
     ]
    },
    {
     "cell_type": "code",
     "collapsed": false,
     "input": [
      "\n",
      "g = ia.get_graph(gname)\n",
      "model = ia.LdaModel()\n",
      "real_netflow_IP_lda_results = model.train(g, 'ip', 'word', 'count', num_topics = 10, max_interations = 50)\n",
      "\n",
      "\n",
      "dresults = g_titan.ml.latent_dirichlet_allocation(\n",
      "        edge_value_property_list = [\"tot_dstbyte\"],\n",
      "        vertex_type = \"vertex_type\",\n",
      "        input_edge_label_list = [\"to_port\"],\n",
      "        output_vertex_property_list = [\"lda_result\"],\n",
      "        vector_value = True,\n",
      "        num_topics = 10,\n",
      "        max_supersteps = 10\n",
      "        )\n",
      "\n",
      "print dresults"
     ],
     "language": "python",
     "metadata": {},
     "outputs": [
      {
       "ename": "AttributeError",
       "evalue": "'TitanGraph' object has no attribute 'export_to_titan'",
       "output_type": "pyerr",
       "traceback": [
        "\u001b[1;31m---------------------------------------------------------------------------\u001b[0m\n\u001b[1;31mAttributeError\u001b[0m                            Traceback (most recent call last)",
        "\u001b[1;32m<ipython-input-15-9e112c144f13>\u001b[0m in \u001b[0;36m<module>\u001b[1;34m()\u001b[0m\n\u001b[0;32m      1\u001b[0m \u001b[1;33m\u001b[0m\u001b[0m\n\u001b[0;32m      2\u001b[0m \u001b[0mg\u001b[0m \u001b[1;33m=\u001b[0m \u001b[0mia\u001b[0m\u001b[1;33m.\u001b[0m\u001b[0mget_graph\u001b[0m\u001b[1;33m(\u001b[0m\u001b[0mgname\u001b[0m\u001b[1;33m)\u001b[0m\u001b[1;33m\u001b[0m\u001b[0m\n\u001b[1;32m----> 3\u001b[1;33m \u001b[0mg_titan\u001b[0m \u001b[1;33m=\u001b[0m \u001b[0mg\u001b[0m\u001b[1;33m.\u001b[0m\u001b[0mexport_to_titan\u001b[0m\u001b[1;33m(\u001b[0m\u001b[1;33m)\u001b[0m\u001b[1;33m\u001b[0m\u001b[0m\n\u001b[0m\u001b[0;32m      4\u001b[0m \u001b[1;33m\u001b[0m\u001b[0m\n\u001b[0;32m      5\u001b[0m dresults = g_titan.ml.latent_dirichlet_allocation(\n",
        "\u001b[1;31mAttributeError\u001b[0m: 'TitanGraph' object has no attribute 'export_to_titan'"
       ]
      }
     ],
     "prompt_number": 15
    },
    {
     "cell_type": "code",
     "collapsed": false,
     "input": [
      "sresults = g.ml.latent_dirichlet_allocation(\n",
      "        edge_value_property_list = [\"fs_srcbyte,tot_srcbyte,fs_srcpkt\"],\n",
      "        vertex_type = \"vertex_type\",\n",
      "        input_edge_label_list = [\"from_port\"],\n",
      "        output_vertex_property_list = [\"lda_result\"],\n",
      "        vector_value = True,\n",
      "        num_topics = 10,\n",
      "        max_supersteps = 10\n",
      "        )\n",
      "print sresults"
     ],
     "language": "python",
     "metadata": {},
     "outputs": [
      {
       "output_type": "stream",
       "stream": "stdout",
       "text": [
        "\r",
        "initializing..."
       ]
      },
      {
       "output_type": "stream",
       "stream": "stdout",
       "text": [
        "\r",
        "[.........................]   0.00%  Time 0:00:00"
       ]
      },
      {
       "output_type": "stream",
       "stream": "stdout",
       "text": [
        "\r",
        "[.........................]   0.00%  Time 0:00:02"
       ]
      },
      {
       "output_type": "stream",
       "stream": "stdout",
       "text": [
        "\r",
        "[.........................]   0.00%  Time 0:00:04"
       ]
      },
      {
       "output_type": "stream",
       "stream": "stdout",
       "text": [
        "\r",
        "[.........................]   0.00%  Time 0:00:06"
       ]
      },
      {
       "output_type": "stream",
       "stream": "stdout",
       "text": [
        "\r",
        "[.........................]   0.00%  Time 0:00:08"
       ]
      },
      {
       "output_type": "stream",
       "stream": "stdout",
       "text": [
        "\r",
        "[.........................]   0.00%  Time 0:00:10"
       ]
      },
      {
       "output_type": "stream",
       "stream": "stdout",
       "text": [
        "\r",
        "[.........................]   0.00%  Time 0:00:12"
       ]
      },
      {
       "output_type": "stream",
       "stream": "stdout",
       "text": [
        "\r",
        "[.........................]   0.00%  Time 0:00:14"
       ]
      },
      {
       "output_type": "stream",
       "stream": "stdout",
       "text": [
        "\r",
        "[.........................]   0.00%  Time 0:00:16"
       ]
      },
      {
       "output_type": "stream",
       "stream": "stdout",
       "text": [
        "\r",
        "[.........................]   0.00%  Time 0:00:18"
       ]
      },
      {
       "output_type": "stream",
       "stream": "stdout",
       "text": [
        "\r",
        "[.........................]   0.00%  Time 0:00:20"
       ]
      },
      {
       "output_type": "stream",
       "stream": "stdout",
       "text": [
        "\r",
        "[.........................]   0.00%  Time 0:00:22"
       ]
      },
      {
       "output_type": "stream",
       "stream": "stdout",
       "text": [
        "\r",
        "[.........................]   0.00%  Time 0:00:24"
       ]
      },
      {
       "output_type": "stream",
       "stream": "stdout",
       "text": [
        "\r",
        "[.........................]   0.00%  Time 0:00:26"
       ]
      },
      {
       "output_type": "stream",
       "stream": "stdout",
       "text": [
        "\r",
        "[.........................]   0.00%  Time 0:00:28"
       ]
      },
      {
       "output_type": "stream",
       "stream": "stdout",
       "text": [
        "\r",
        "[.........................]   0.00%  Time 0:00:30"
       ]
      },
      {
       "output_type": "stream",
       "stream": "stdout",
       "text": [
        "\r",
        "[.........................]   0.00%  Time 0:00:32"
       ]
      },
      {
       "output_type": "stream",
       "stream": "stdout",
       "text": [
        "\r",
        "[.........................]   0.00%  Time 0:00:34"
       ]
      },
      {
       "output_type": "stream",
       "stream": "stdout",
       "text": [
        "\r",
        "[=========================] 100.00%  Time 0:00:36"
       ]
      },
      {
       "output_type": "stream",
       "stream": "stdout",
       "text": [
        "\r",
        "[=========================] 100.00%  Time 0:00:38"
       ]
      },
      {
       "output_type": "stream",
       "stream": "stdout",
       "text": [
        "\r",
        "[=========================] 100.00%  Time 0:00:41"
       ]
      },
      {
       "output_type": "stream",
       "stream": "stdout",
       "text": [
        "\r",
        "[=========================] 100.00%  Time 0:00:43"
       ]
      },
      {
       "output_type": "stream",
       "stream": "stdout",
       "text": [
        "\r",
        "[=========================] 100.00%  Time 0:00:45"
       ]
      },
      {
       "output_type": "stream",
       "stream": "stdout",
       "text": [
        "\r",
        "[=========================] 100.00%  Time 0:00:47"
       ]
      },
      {
       "output_type": "stream",
       "stream": "stdout",
       "text": [
        "\r",
        "[=========================] 100.00%  Time 0:00:49"
       ]
      },
      {
       "output_type": "stream",
       "stream": "stdout",
       "text": [
        "\r",
        "[=========================] 100.00%  Time 0:00:51"
       ]
      },
      {
       "output_type": "stream",
       "stream": "stdout",
       "text": [
        "\r",
        "[=========================] 100.00%  Time 0:00:53"
       ]
      },
      {
       "output_type": "stream",
       "stream": "stdout",
       "text": [
        "\r",
        "[=========================] 100.00%  Time 0:00:55"
       ]
      },
      {
       "output_type": "stream",
       "stream": "stdout",
       "text": [
        "\r",
        "[=========================] 100.00%  Time 0:00:57"
       ]
      },
      {
       "output_type": "stream",
       "stream": "stdout",
       "text": [
        "\r",
        "[=========================] 100.00%  Time 0:00:59"
       ]
      },
      {
       "output_type": "stream",
       "stream": "stdout",
       "text": [
        "\r",
        "[=========================] 100.00%  Time 0:01:01"
       ]
      },
      {
       "output_type": "stream",
       "stream": "stdout",
       "text": [
        "\r",
        "[=========================] 100.00%  Time 0:01:03"
       ]
      },
      {
       "output_type": "stream",
       "stream": "stdout",
       "text": [
        "\r",
        "[=========================] 100.00%  Time 0:01:05"
       ]
      },
      {
       "output_type": "stream",
       "stream": "stdout",
       "text": [
        "\r",
        "[=========================] 100.00%  Time 0:01:07"
       ]
      },
      {
       "output_type": "stream",
       "stream": "stdout",
       "text": [
        "\r",
        "[=========================] 100.00%  Time 0:01:09"
       ]
      },
      {
       "output_type": "stream",
       "stream": "stdout",
       "text": [
        "\r",
        "[=========================] 100.00%  Time 0:01:11"
       ]
      },
      {
       "output_type": "stream",
       "stream": "stdout",
       "text": [
        "\r",
        "[=========================] 100.00%  Time 0:01:13"
       ]
      },
      {
       "output_type": "stream",
       "stream": "stdout",
       "text": [
        "\r",
        "[=========================] 100.00%  Time 0:01:15"
       ]
      },
      {
       "output_type": "stream",
       "stream": "stdout",
       "text": [
        "\r",
        "[=========================] 100.00%  Time 0:01:19"
       ]
      },
      {
       "output_type": "stream",
       "stream": "stdout",
       "text": [
        "\r",
        "[=========================] 100.00%  Time 0:01:22"
       ]
      },
      {
       "output_type": "stream",
       "stream": "stdout",
       "text": [
        "\r",
        "[=========================] 100.00%  Time 0:01:25"
       ]
      },
      {
       "output_type": "stream",
       "stream": "stdout",
       "text": [
        "\r",
        "[=========================] 100.00%  Time 0:01:28"
       ]
      },
      {
       "output_type": "stream",
       "stream": "stdout",
       "text": [
        "\r",
        "[=========================] 100.00%  Time 0:01:31"
       ]
      },
      {
       "output_type": "stream",
       "stream": "stdout",
       "text": [
        "\r",
        "[=========================] 100.00%  Time 0:01:34"
       ]
      },
      {
       "output_type": "stream",
       "stream": "stdout",
       "text": [
        "\r",
        "[=========================] 100.00%  Time 0:01:37"
       ]
      },
      {
       "output_type": "stream",
       "stream": "stdout",
       "text": [
        "\r",
        "[=========================] 100.00%  Time 0:01:40"
       ]
      },
      {
       "output_type": "stream",
       "stream": "stdout",
       "text": [
        "\r",
        "[=========================] 100.00%  Time 0:01:43"
       ]
      },
      {
       "output_type": "stream",
       "stream": "stdout",
       "text": [
        "\r",
        "[=========================] 100.00%  Time 0:01:46"
       ]
      },
      {
       "output_type": "stream",
       "stream": "stdout",
       "text": [
        "\r",
        "[=========================] 100.00%  Time 0:01:49"
       ]
      },
      {
       "output_type": "stream",
       "stream": "stdout",
       "text": [
        "\r",
        "[=========================] 100.00%  Time 0:01:52"
       ]
      },
      {
       "output_type": "stream",
       "stream": "stdout",
       "text": [
        "\r",
        "[=========================] 100.00%  Time 0:01:55"
       ]
      },
      {
       "output_type": "stream",
       "stream": "stdout",
       "text": [
        "\r",
        "[=========================] 100.00%  Time 0:01:58"
       ]
      },
      {
       "output_type": "stream",
       "stream": "stdout",
       "text": [
        "\r",
        "[=========================] 100.00%  Time 0:02:01"
       ]
      },
      {
       "output_type": "stream",
       "stream": "stdout",
       "text": [
        "\r",
        "[=========================] 100.00%  Time 0:02:04"
       ]
      },
      {
       "output_type": "stream",
       "stream": "stdout",
       "text": [
        "\r",
        "[=========================] 100.00%  Time 0:02:07"
       ]
      },
      {
       "output_type": "stream",
       "stream": "stdout",
       "text": [
        "\r",
        "[=========================] 100.00%  Time 0:02:10"
       ]
      },
      {
       "output_type": "stream",
       "stream": "stdout",
       "text": [
        "\r",
        "[=========================] 100.00%  Time 0:02:14"
       ]
      },
      {
       "output_type": "stream",
       "stream": "stdout",
       "text": [
        "\r",
        "[=========================] 100.00%  Time 0:02:17"
       ]
      },
      {
       "output_type": "stream",
       "stream": "stdout",
       "text": [
        "\r",
        "[=========================] 100.00%  Time 0:02:21"
       ]
      },
      {
       "output_type": "stream",
       "stream": "stdout",
       "text": [
        "\r",
        "[=========================] 100.00%  Time 0:02:25"
       ]
      },
      {
       "output_type": "stream",
       "stream": "stdout",
       "text": [
        "\r",
        "[=========================] 100.00%  Time 0:02:29"
       ]
      },
      {
       "output_type": "stream",
       "stream": "stdout",
       "text": [
        "\r",
        "[=========================] 100.00%  Time 0:02:33"
       ]
      },
      {
       "output_type": "stream",
       "stream": "stdout",
       "text": [
        "\r",
        "[=========================] 100.00%  Time 0:02:37"
       ]
      },
      {
       "output_type": "stream",
       "stream": "stdout",
       "text": [
        "\r",
        "[=========================] 100.00%  Time 0:02:41"
       ]
      },
      {
       "output_type": "stream",
       "stream": "stdout",
       "text": [
        "\r",
        "[=========================] 100.00%  Time 0:02:45"
       ]
      },
      {
       "output_type": "stream",
       "stream": "stdout",
       "text": [
        "\r",
        "[=========================] 100.00%  Time 0:02:49"
       ]
      },
      {
       "output_type": "stream",
       "stream": "stdout",
       "text": [
        "\r",
        "[=========================] 100.00%  Time 0:02:53"
       ]
      },
      {
       "output_type": "stream",
       "stream": "stdout",
       "text": [
        "\r",
        "[=========================] 100.00%  Time 0:02:57"
       ]
      },
      {
       "output_type": "stream",
       "stream": "stdout",
       "text": [
        "\r",
        "[=========================] 100.00%  Time 0:03:01"
       ]
      },
      {
       "output_type": "stream",
       "stream": "stdout",
       "text": [
        "\r",
        "[=========================] 100.00%  Time 0:03:05"
       ]
      },
      {
       "output_type": "stream",
       "stream": "stdout",
       "text": [
        "\r",
        "[=========================] 100.00%  Time 0:03:10"
       ]
      },
      {
       "output_type": "stream",
       "stream": "stdout",
       "text": [
        "\r",
        "[=========================] 100.00%  Time 0:03:14"
       ]
      },
      {
       "output_type": "stream",
       "stream": "stdout",
       "text": [
        "\r",
        "[=========================] 100.00%  Time 0:03:18"
       ]
      },
      {
       "output_type": "stream",
       "stream": "stdout",
       "text": [
        "\r",
        "[=========================] 100.00%  Time 0:03:23"
       ]
      },
      {
       "output_type": "stream",
       "stream": "stdout",
       "text": [
        "\r",
        "[=========================] 100.00%  Time 0:03:28"
       ]
      },
      {
       "output_type": "stream",
       "stream": "stdout",
       "text": [
        "\r",
        "[=========================] 100.00%  Time 0:03:33"
       ]
      },
      {
       "output_type": "stream",
       "stream": "stdout",
       "text": [
        "\r",
        "[=========================] 100.00%  Time 0:03:38"
       ]
      },
      {
       "output_type": "stream",
       "stream": "stdout",
       "text": [
        "\r",
        "[=========================] 100.00%  Time 0:03:43"
       ]
      },
      {
       "output_type": "stream",
       "stream": "stdout",
       "text": [
        "\r",
        "[=========================] 100.00%  Time 0:03:48"
       ]
      },
      {
       "output_type": "stream",
       "stream": "stdout",
       "text": [
        "\r",
        "[=========================] 100.00%  Time 0:03:53"
       ]
      },
      {
       "output_type": "stream",
       "stream": "stdout",
       "text": [
        "\r",
        "[=========================] 100.00%  Time 0:03:58"
       ]
      },
      {
       "output_type": "stream",
       "stream": "stdout",
       "text": [
        "\r",
        "[=========================] 100.00%  Time 0:04:03"
       ]
      },
      {
       "output_type": "stream",
       "stream": "stdout",
       "text": [
        "\r",
        "[=========================] 100.00%  Time 0:04:08"
       ]
      },
      {
       "output_type": "stream",
       "stream": "stdout",
       "text": [
        "\r",
        "[=========================] 100.00%  Time 0:04:13"
       ]
      },
      {
       "output_type": "stream",
       "stream": "stdout",
       "text": [
        "\r",
        "[=========================] 100.00%  Time 0:04:20"
       ]
      },
      {
       "output_type": "stream",
       "stream": "stdout",
       "text": [
        "\r",
        "[=========================] 100.00%  Time 0:04:26"
       ]
      },
      {
       "output_type": "stream",
       "stream": "stderr",
       "text": [
        "ERROR:intelanalytics.core.graph:Traceback (most recent call last):\n",
        "  File \"intelanalytics/core/api.py\", line 49, in _api\n",
        "  File \"<string>\", line 113, in latent_dirichlet_allocation\n",
        "  File \"intelanalytics/core/metaprog.py\", line 321, in execute_command\n",
        "  File \"intelanalytics/rest/command.py\", line 49, in execute_command\n",
        "  File \"intelanalytics/rest/command.py\", line 383, in issue\n",
        "  File \"intelanalytics/rest/command.py\", line 400, in poll_command_info\n",
        "OperationCancelException: command cancelled by user\n",
        "\n"
       ]
      },
      {
       "ename": "OperationCancelException",
       "evalue": "command cancelled by user",
       "output_type": "pyerr",
       "traceback": [
        "\u001b[1;31m---------------------------------------------------------------------------\u001b[0m\n\u001b[1;31mOperationCancelException\u001b[0m                  Traceback (most recent call last)",
        "\u001b[1;32m<ipython-input-57-ed658e7ca21f>\u001b[0m in \u001b[0;36m<module>\u001b[1;34m()\u001b[0m\n\u001b[0;32m      6\u001b[0m         \u001b[0mvector_value\u001b[0m \u001b[1;33m=\u001b[0m \u001b[0mTrue\u001b[0m\u001b[1;33m,\u001b[0m\u001b[1;33m\u001b[0m\u001b[0m\n\u001b[0;32m      7\u001b[0m         \u001b[0mnum_topics\u001b[0m \u001b[1;33m=\u001b[0m \u001b[1;36m10\u001b[0m\u001b[1;33m,\u001b[0m\u001b[1;33m\u001b[0m\u001b[0m\n\u001b[1;32m----> 8\u001b[1;33m         \u001b[0mmax_supersteps\u001b[0m\u001b[1;33m=\u001b[0m\u001b[1;36m10\u001b[0m\u001b[1;33m\u001b[0m\u001b[0m\n\u001b[0m\u001b[0;32m      9\u001b[0m         )\n\u001b[0;32m     10\u001b[0m \u001b[1;32mprint\u001b[0m \u001b[0msresults\u001b[0m\u001b[1;33m\u001b[0m\u001b[0m\n",
        "\u001b[1;32m<string>\u001b[0m in \u001b[0;36mlatent_dirichlet_allocation\u001b[1;34m(self, edge_value_property_list, input_edge_label_list, output_vertex_property_list, vertex_type, vector_value, max_supersteps, alpha, beta, convergence_threshold, evaluation_cost, max_value, min_value, bidirectional_check, num_topics)\u001b[0m\n",
        "\u001b[1;32m/usr/lib/python2.7/site-packages/intelanalytics/core/api.pyc\u001b[0m in \u001b[0;36m_api\u001b[1;34m(function, *args, **kwargs)\u001b[0m\n",
        "\u001b[1;31mOperationCancelException\u001b[0m: command cancelled by user"
       ]
      }
     ],
     "prompt_number": 57
    },
    {
     "cell_type": "code",
     "collapsed": false,
     "input": [
      "result0 = g.query.gremlin(\"g.V('dstip','10.0.0.10').out\")\n",
      "print result0\n",
      "graph_result1 = g.query.gremlin(\"g.V.has('dport').has('lda_result',T.gte,0.7f).has('dport',T.lte,1024)\")\n",
      "#graph_result2 = g.query.gremlin(\"g.V.has('srcip').has('src_lda_result',T.gte,0.9f)\")\n",
      "print graph_result1 "
     ],
     "language": "python",
     "metadata": {},
     "outputs": []
    },
    {
     "cell_type": "code",
     "collapsed": false,
     "input": [
      "#turn graph results into matrix\n",
      "vertexes = {}\n",
      "j=0\n",
      "for i in graph_result1[\"results\"]:\n",
      "    if not str(i['dport']) in vertexes:\n",
      "        ldavec = i['lda_result'].split(',')\n",
      "        group = 11\n",
      "        res = np.max(np.float64(ldavec))\n",
      "        for jj in range(0,len(ldavec)):\n",
      "            if np.float64(ldavec[jj]) >= 0.9:\n",
      "                group = jj;\n",
      "                res = ldavec[jj]\n",
      "        if group != 11:\n",
      "            vertexes[str(i['_id'])] = [j,str(i['dport']),str(i['_id']),str(group),str(res)]\n",
      "            j+1\n",
      "print len(vertexes)\n",
      "multikeys = []\n",
      "for i in vertexes:\n",
      "    gid,name,vid,grp,gval = vertexes[i] \n",
      "    #if grp == \"0\":\n",
      "    multikeys.append(dict([('name', name),('vid',vid),('group',int(grp)),('size',int(np.float64(gval)*1000)),\n",
      "                           ('value',int(np.float64(gval)*1000))]))\n",
      "with open('ldagraph.json', 'w') as f:\n",
      "    json.dump({\"children\" : multikeys}, \n",
      "              f, indent=4,)"
     ],
     "language": "python",
     "metadata": {},
     "outputs": [
      {
       "output_type": "stream",
       "stream": "stdout",
       "text": [
        "10\n"
       ]
      }
     ],
     "prompt_number": 6
    },
    {
     "cell_type": "code",
     "collapsed": false,
     "input": [
      "%%javascript\n",
      "var bubb = \"http://10.54.10.133:8888/files/ipython/bubbles.html\";\n",
      "parent.document.getElementById('vizView').contentWindow.location.replace(bubb)\n"
     ],
     "language": "python",
     "metadata": {},
     "outputs": [
      {
       "javascript": [
        "var bubb = \"http://10.54.10.133:8888/files/ipython/bubbles.html\";\n",
        "parent.document.getElementById('vizView').contentWindow.location.replace(bubb)"
       ],
       "metadata": {},
       "output_type": "display_data",
       "text": [
        "<IPython.core.display.Javascript at 0xe9ff3d0>"
       ]
      }
     ],
     "prompt_number": 279
    },
    {
     "cell_type": "code",
     "collapsed": false,
     "input": [
      "SEARCHPORT='123'\n",
      "!echo $SEARCHPORT"
     ],
     "language": "python",
     "metadata": {},
     "outputs": [
      {
       "output_type": "stream",
       "stream": "stdout",
       "text": [
        "123\r\n"
       ]
      }
     ],
     "prompt_number": 239
    },
    {
     "cell_type": "code",
     "collapsed": false,
     "input": [
      "# turn into aggregated query to return the matrix\n",
      "!hive -S -e 'SELECT firstseensrcip, firstseendestip,\\\n",
      "max(firstseendesttotalbytes) FROM vast_netflow \\\n",
      "WHERE firstseendestport = {SEARCHPORT} \\\n",
      "GROUP BY firstseensrcip, firstseendestip' \\\n",
      "-hiveconf hive.root.logger=INFO > \\\n",
      "'/home/hadoop/ipython/dataset/results.txt'\n",
      "!echo 'results returned: '\n",
      "!wc -l /home/hadoop/ipython/dataset/results.txt"
     ],
     "language": "python",
     "metadata": {},
     "outputs": [
      {
       "output_type": "stream",
       "stream": "stdout",
       "text": [
        "14/10/21 12:48:51 INFO Configuration.deprecation: mapred.input.dir.recursive is deprecated. Instead, use mapreduce.input.fileinputformat.input.dir.recursive\r\n",
        "14/10/21 12:48:51 INFO Configuration.deprecation: mapred.max.split.size is deprecated. Instead, use mapreduce.input.fileinputformat.split.maxsize\r\n",
        "14/10/21 12:48:51 INFO Configuration.deprecation: mapred.min.split.size is deprecated. Instead, use mapreduce.input.fileinputformat.split.minsize\r\n",
        "14/10/21 12:48:51 INFO Configuration.deprecation: mapred.min.split.size.per.rack is deprecated. Instead, use mapreduce.input.fileinputformat.split.minsize.per.rack\r\n",
        "14/10/21 12:48:51 INFO Configuration.deprecation: mapred.min.split.size.per.node is deprecated. Instead, use mapreduce.input.fileinputformat.split.minsize.per.node\r\n",
        "14/10/21 12:48:51 INFO Configuration.deprecation: mapred.reduce.tasks is deprecated. Instead, use mapreduce.job.reduces\r\n",
        "14/10/21 12:48:51 INFO Configuration.deprecation: mapred.reduce.tasks.speculative.execution is deprecated. Instead, use mapreduce.reduce.speculative\r\n"
       ]
      },
      {
       "output_type": "stream",
       "stream": "stdout",
       "text": [
        "14/10/21 12:48:52 WARN conf.HiveConf: DEPRECATED: Configuration property hive.metastore.local no longer has any effect. Make sure to provide a valid value for hive.metastore.uris if you are connecting to a remote metastore.\r\n"
       ]
      },
      {
       "output_type": "stream",
       "stream": "stdout",
       "text": [
        "results returned: \r\n"
       ]
      },
      {
       "output_type": "stream",
       "stream": "stdout",
       "text": [
        "1010 /home/hadoop/ipython/dataset/results.txt\r\n"
       ]
      }
     ],
     "prompt_number": 240
    },
    {
     "cell_type": "code",
     "collapsed": false,
     "input": [
      "#create chord matrix\n",
      "chordfile = '/home/hadoop/ipython/dataset/results.txt'\n",
      "ll = 30;\n",
      "#load csv into array\n",
      "with open(chordfile, 'rb') as f:\n",
      "    reader = csv.reader(f,delimiter='\\t') \n",
      "    carry = np.zeros([ll,3],np.int64)\n",
      "    rowct = 0\n",
      "    for row in reader:\n",
      "        carry[rowct,0] = struct.unpack(\"!L\", socket.inet_aton(row[0]))[0]    \n",
      "        carry[rowct,1] = struct.unpack(\"!L\", socket.inet_aton(row[1]))[0]    \n",
      "        carry[rowct,2] = np.int64(row[2])\n",
      "        rowct = rowct + 1\n",
      "        if rowct > ll-1:\n",
      "            break\n",
      "dim = np.zeros(2*ll,np.int64)\n",
      "dim = np.concatenate([carry[:,0],carry[:,1]],axis=0)\n",
      "dim = np.unique(dim)\n",
      "chordm = np.zeros([len(dim),len(dim)],np.int64)\n",
      "for j in carry:\n",
      "    xcoord = np.where(dim == j[0]);\n",
      "    ycoord = np.where(dim == j[1]);\n",
      "    chordm[xcoord,ycoord] = j[2]\n",
      "print 'chord data loaded.'\n",
      "dimstr = []\n",
      "for j in dim:\n",
      "    dimstr.append(socket.inet_ntoa(struct.pack('!L', j)))\n",
      "headr = \",\".join(dimstr)\n",
      "fmtr = r'%1d ' * len(dim)\n",
      "with open(\"/home/hadoop/ipython/dataset/chord.csv\", 'wb') as f:\n",
      "    for j in chordm:\n",
      "        outstr = '['+','.join(map(str, j))+'],'\n",
      "        #print outstr\n",
      "#np.savetxt(g,chordm,delimiter=',',fmt=fmtr,header=headr)"
     ],
     "language": "python",
     "metadata": {},
     "outputs": [
      {
       "output_type": "stream",
       "stream": "stdout",
       "text": [
        "chord data loaded.\n"
       ]
      }
     ],
     "prompt_number": 273
    },
    {
     "cell_type": "code",
     "collapsed": false,
     "input": [
      "%%javascript\n",
      "var chord = \"http://10.54.10.133:8888/files/ipython/chord.html\";\n",
      "javascript:parent.document.getElementById('vizView').contentWindow.location.replace(chord);"
     ],
     "language": "python",
     "metadata": {},
     "outputs": [
      {
       "javascript": [
        "var chord = \"http://10.54.10.133:8888/files/ipython/chord.html\";\n",
        "javascript:parent.document.getElementById('vizView').contentWindow.location.replace(chord);"
       ],
       "metadata": {},
       "output_type": "display_data",
       "text": [
        "<IPython.core.display.Javascript at 0x3884550>"
       ]
      }
     ],
     "prompt_number": 275
    },
    {
     "cell_type": "code",
     "collapsed": false,
     "input": [
      "print 'src\\t\\tdest\\t\\tmaxbyte'\n",
      "!head -n 50 /home/hadoop/ipython/dataset/results.txt"
     ],
     "language": "python",
     "metadata": {},
     "outputs": [
      {
       "output_type": "stream",
       "stream": "stdout",
       "text": [
        "src\t\tdest\t\tmaxbyte\n"
       ]
      },
      {
       "output_type": "stream",
       "stream": "stdout",
       "text": [
        "10.9.81.5\t172.10.0.3\t54\r\n",
        "10.9.81.5\t172.10.0.40\t54\r\n",
        "10.9.81.5\t172.30.0.7\t0\r\n",
        "172.10.0.4\t172.0.0.1\t180\r\n",
        "172.10.1.105\t172.0.0.1\t0\r\n",
        "172.10.1.111\t172.0.0.1\t0\r\n",
        "172.10.1.126\t172.0.0.1\t0\r\n",
        "172.10.1.132\t172.0.0.1\t0\r\n",
        "172.10.1.14\t172.0.0.1\t450\r\n",
        "172.10.1.147\t172.0.0.1\t0\r\n",
        "172.10.1.153\t172.0.0.1\t0\r\n",
        "172.10.1.168\t172.0.0.1\t180\r\n",
        "172.10.1.174\t172.0.0.1\t0\r\n",
        "172.10.1.180\t172.0.0.1\t0\r\n",
        "172.10.1.189\t172.0.0.1\t0\r\n",
        "172.10.1.195\t172.0.0.1\t90\r\n",
        "172.10.1.20\t172.0.0.1\t90\r\n",
        "172.10.1.207\t172.0.0.1\t180\r\n",
        "172.10.1.213\t172.0.0.1\t180\r\n",
        "172.10.1.228\t172.0.0.1\t180\r\n",
        "172.10.1.234\t172.0.0.1\t180\r\n",
        "172.10.1.240\t172.0.0.1\t270\r\n",
        "172.10.1.249\t172.0.0.1\t270\r\n",
        "172.10.1.29\t172.0.0.1\t90\r\n",
        "172.10.1.35\t172.0.0.1\t0\r\n",
        "172.10.1.41\t172.0.0.1\t0\r\n",
        "172.10.1.56\t172.0.0.1\t90\r\n",
        "172.10.1.6\t172.0.0.1\t360\r\n",
        "172.10.1.62\t172.0.0.1\t270\r\n",
        "172.10.1.77\t172.0.0.1\t180\r\n",
        "172.10.1.83\t172.0.0.1\t0\r\n",
        "172.10.1.98\t172.0.0.1\t90\r\n",
        "172.10.2.101\t172.0.0.1\t720\r\n",
        "172.10.2.116\t172.0.0.1\t540\r\n",
        "172.10.2.122\t172.0.0.1\t360\r\n",
        "172.10.2.137\t172.0.0.1\t180\r\n",
        "172.10.2.143\t172.0.0.1\t360\r\n",
        "172.10.2.49\t172.0.0.1\t540\r\n",
        "172.10.2.55\t172.0.0.1\t810\r\n",
        "172.10.2.61\t172.0.0.1\t360\r\n",
        "172.10.2.76\t172.0.0.1\t360\r\n",
        "172.10.2.82\t172.0.0.1\t630\r\n",
        "172.10.2.97\t172.0.0.1\t180\r\n",
        "172.20.0.2\t172.0.0.1\t5040\r\n",
        "172.20.1.15\t172.0.0.1\t1350\r\n",
        "172.20.1.208\t172.0.0.1\t270\r\n",
        "172.20.1.21\t172.0.0.1\t9810\r\n",
        "172.20.1.214\t172.0.0.1\t450\r\n",
        "172.20.1.220\t172.0.0.1\t270\r\n",
        "172.20.1.229\t172.0.0.1\t270\r\n"
       ]
      }
     ],
     "prompt_number": 261
    },
    {
     "cell_type": "code",
     "collapsed": false,
     "input": [
      "SRCIP='10.9.81.5'\n",
      "!echo $SRCIP"
     ],
     "language": "python",
     "metadata": {},
     "outputs": [
      {
       "output_type": "stream",
       "stream": "stdout",
       "text": [
        "10.9.81.5\r\n"
       ]
      }
     ],
     "prompt_number": 256
    },
    {
     "cell_type": "code",
     "collapsed": false,
     "input": [
      "#take the right IP address and perform a hive query -- format to table!\n",
      "!hive -S -e \"SELECT parseddate,firstseensrcip,firstseendestip,\\\n",
      "firstseensrcport,firstseendestport, \\\n",
      "firstseensrcpayloadbytes, firstseendestpayloadbytes, \\\n",
      "firstseensrctotalbytes, firstseendesttotalbytes, \\\n",
      "firstseensrcpacketcount, firstseendestpacketcount \\\n",
      "FROM vast_netflow \\\n",
      "WHERE firstseendestport = {SEARCHPORT} \\\n",
      "AND firstseensrcip = '\"{SRCIP}\"'\"\n"
     ],
     "language": "python",
     "metadata": {},
     "outputs": [
      {
       "output_type": "stream",
       "stream": "stdout",
       "text": [
        "14/10/21 14:40:30 INFO Configuration.deprecation: mapred.input.dir.recursive is deprecated. Instead, use mapreduce.input.fileinputformat.input.dir.recursive\r\n",
        "14/10/21 14:40:30 INFO Configuration.deprecation: mapred.max.split.size is deprecated. Instead, use mapreduce.input.fileinputformat.split.maxsize\r\n",
        "14/10/21 14:40:30 INFO Configuration.deprecation: mapred.min.split.size is deprecated. Instead, use mapreduce.input.fileinputformat.split.minsize\r\n",
        "14/10/21 14:40:30 INFO Configuration.deprecation: mapred.min.split.size.per.rack is deprecated. Instead, use mapreduce.input.fileinputformat.split.minsize.per.rack\r\n",
        "14/10/21 14:40:30 INFO Configuration.deprecation: mapred.min.split.size.per.node is deprecated. Instead, use mapreduce.input.fileinputformat.split.minsize.per.node\r\n",
        "14/10/21 14:40:30 INFO Configuration.deprecation: mapred.reduce.tasks is deprecated. Instead, use mapreduce.job.reduces\r\n",
        "14/10/21 14:40:30 INFO Configuration.deprecation: mapred.reduce.tasks.speculative.execution is deprecated. Instead, use mapreduce.reduce.speculative\r\n"
       ]
      },
      {
       "output_type": "stream",
       "stream": "stdout",
       "text": [
        "14/10/21 14:40:30 WARN conf.HiveConf: DEPRECATED: Configuration property hive.metastore.local no longer has any effect. Make sure to provide a valid value for hive.metastore.uris if you are connecting to a remote metastore.\r\n"
       ]
      },
      {
       "output_type": "stream",
       "stream": "stdout",
       "text": [
        "2013-04-06 12:14:37\t10.9.81.5\t172.20.0.6\t62560\t123\t0\t0\t58\t0\t1\t0\r\n",
        "2013-04-06 12:14:37\t10.9.81.5\t172.20.0.6\t62559\t123\t0\t0\t58\t0\t1\t0\r\n",
        "2013-04-06 12:18:32\t10.9.81.5\t172.10.0.5\t62560\t123\t0\t0\t58\t0\t1\t0\r\n",
        "2013-04-06 12:18:32\t10.9.81.5\t172.10.0.5\t62559\t123\t0\t0\t58\t0\t1\t0\r\n",
        "2013-04-06 12:19:05\t10.9.81.5\t172.10.0.9\t62560\t123\t0\t0\t58\t0\t1\t0\r\n",
        "2013-04-06 12:19:05\t10.9.81.5\t172.10.0.9\t62559\t123\t0\t0\t58\t0\t1\t0\r\n",
        "2013-04-06 12:35:41\t10.9.81.5\t172.10.0.4\t62561\t123\t0\t0\t58\t0\t1\t0\r\n",
        "2013-04-06 12:35:41\t10.9.81.5\t172.10.0.4\t62560\t123\t0\t0\t58\t0\t1\t0\r\n",
        "2013-04-06 12:35:41\t10.9.81.5\t172.10.0.4\t62559\t123\t0\t0\t58\t0\t1\t0\r\n",
        "2013-04-07 03:13:26\t10.9.81.5\t172.10.0.40\t62559\t123\t0\t0\t58\t54\t1\t1\r\n",
        "2013-04-06 11:19:24\t10.9.81.5\t172.30.0.5\t51358\t123\t0\t0\t58\t0\t1\t0\r\n",
        "2013-04-06 11:19:24\t10.9.81.5\t172.30.0.5\t51357\t123\t0\t0\t58\t0\t1\t0\r\n",
        "2013-04-06 11:19:26\t10.9.81.5\t172.30.0.4\t51358\t123\t0\t0\t58\t0\t1\t0\r\n",
        "2013-04-06 11:19:28\t10.9.81.5\t172.30.0.7\t51357\t123\t0\t0\t58\t0\t1\t0\r\n",
        "2013-04-06 11:19:28\t10.9.81.5\t172.30.0.7\t51359\t123\t0\t0\t58\t0\t1\t0\r\n",
        "2013-04-06 11:19:28\t10.9.81.5\t172.30.0.7\t51358\t123\t0\t0\t58\t0\t1\t0\r\n",
        "2013-04-06 11:19:32\t10.9.81.5\t172.30.0.6\t51358\t123\t0\t0\t58\t0\t1\t0\r\n",
        "2013-04-06 11:19:32\t10.9.81.5\t172.30.0.6\t51357\t123\t0\t0\t58\t0\t1\t0\r\n",
        "2013-04-06 11:19:46\t10.9.81.5\t172.30.0.3\t51358\t123\t0\t0\t58\t0\t1\t0\r\n",
        "2013-04-06 11:19:46\t10.9.81.5\t172.30.0.3\t51357\t123\t0\t0\t58\t0\t1\t0\r\n",
        "2013-04-06 11:19:49\t10.9.81.5\t172.30.0.2\t51359\t123\t0\t0\t58\t0\t1\t0\r\n",
        "2013-04-06 11:19:49\t10.9.81.5\t172.30.0.2\t51358\t123\t0\t0\t58\t0\t1\t0\r\n",
        "2013-04-06 11:19:49\t10.9.81.5\t172.30.0.2\t51357\t123\t0\t0\t58\t0\t1\t0\r\n",
        "2013-04-06 11:19:47\t10.9.81.5\t172.30.0.3\t51359\t123\t0\t0\t58\t0\t1\t0\r\n",
        "2013-04-06 11:42:29\t10.9.81.5\t172.10.0.7\t62561\t123\t0\t0\t58\t0\t1\t0\r\n",
        "2013-04-06 11:42:28\t10.9.81.5\t172.10.0.7\t62560\t123\t0\t0\t58\t0\t1\t0\r\n",
        "2013-04-06 11:42:28\t10.9.81.5\t172.10.0.7\t62559\t123\t0\t0\t58\t0\t1\t0\r\n",
        "2013-04-06 11:44:21\t10.9.81.5\t172.10.0.3\t62559\t123\t0\t0\t58\t54\t1\t1\r\n",
        "2013-04-06 11:44:32\t10.9.81.5\t172.10.0.2\t62561\t123\t0\t0\t58\t0\t1\t0\r\n",
        "2013-04-06 11:44:32\t10.9.81.5\t172.10.0.2\t62560\t123\t0\t0\t58\t0\t1\t0\r\n",
        "2013-04-06 11:44:32\t10.9.81.5\t172.10.0.2\t62559\t123\t0\t0\t58\t0\t1\t0\r\n",
        "2013-04-06 11:44:23\t10.9.81.5\t172.10.0.8\t62561\t123\t0\t0\t58\t0\t1\t0\r\n",
        "2013-04-06 11:44:23\t10.9.81.5\t172.10.0.8\t62560\t123\t0\t0\t58\t0\t1\t0\r\n",
        "2013-04-06 11:44:23\t10.9.81.5\t172.10.0.8\t62559\t123\t0\t0\t58\t0\t1\t0\r\n"
       ]
      }
     ],
     "prompt_number": 268
    },
    {
     "cell_type": "code",
     "collapsed": false,
     "input": [],
     "language": "python",
     "metadata": {},
     "outputs": []
    }
   ],
   "metadata": {}
  }
 ]
}