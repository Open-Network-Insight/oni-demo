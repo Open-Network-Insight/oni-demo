{
 "cells": [
  {
   "cell_type": "code",
   "execution_count": 69,
   "metadata": {
    "collapsed": false
   },
   "outputs": [
    {
     "name": "stdout",
     "output_type": "stream",
     "text": [
      "10.13.77.49 connects: 25\n",
      "10.138.235.111 connects: 24\n"
     ]
    }
   ],
   "source": [
    "attack_heuristics()"
   ]
  },
  {
   "cell_type": "markdown",
   "metadata": {},
   "source": [
    "**Notes**"
   ]
  },
  {
   "cell_type": "code",
   "execution_count": null,
   "metadata": {
    "collapsed": true
   },
   "outputs": [],
   "source": []
  },
  {
   "cell_type": "code",
   "execution_count": 67,
   "metadata": {
    "collapsed": false,
    "scrolled": true
   },
   "outputs": [],
   "source": [
    "displaythis()\n",
    "#geoip()"
   ]
  },
  {
   "cell_type": "markdown",
   "metadata": {},
   "source": [
    "Complete batch risk scoring according to rules"
   ]
  },
  {
   "cell_type": "code",
   "execution_count": null,
   "metadata": {
    "collapsed": false
   },
   "outputs": [],
   "source": [
    "set_rules()"
   ]
  },
  {
   "cell_type": "markdown",
   "metadata": {},
   "source": [
    "Run attack heuristics."
   ]
  },
  {
   "cell_type": "code",
   "execution_count": 2,
   "metadata": {
    "collapsed": false
   },
   "outputs": [
    {
     "name": "stdout",
     "output_type": "stream",
     "text": [
      "modules and data loaded\n"
     ]
    },
    {
     "name": "stderr",
     "output_type": "stream",
     "text": [
      ":0: FutureWarning: IPython widgets are experimental and may change in the future.\n"
     ]
    }
   ],
   "source": [
    "import struct, socket\n",
    "import shutil\n",
    "import numpy as np\n",
    "import pandas as pd\n",
    "import linecache, bisect\n",
    "import csv\n",
    "import operator\n",
    "import os\n",
    "from IPython.html import widgets\n",
    "from IPython.html.widgets import interact, interactive, fixed\n",
    "from IPython.display import display\n",
    "\n",
    "spath =  'c:\\\\winpython\\\\notebooks\\\\vast\\\\user\\\\vast\\\\'\n",
    "sconnect = spath + 'lda_scores.csv'\n",
    "sconnectbu = spath + 'lda_scores_bu.csv'\n",
    "tmpconnect = sconnect+'.tmp'\n",
    "stemp = sconnect + '.new'\n",
    "coff = 150;\n",
    "contxtpath = '\\\\vast\\\\iploc\\\\'\n",
    "nwloc = contxtpath + 'networkcontext.txt'\n",
    "iploc = contxtpath + 'iploc.csv'\n",
    "\n",
    "#print 'loading context data ... may take a few minutes.'\n",
    "#iplist = np.loadtxt(iploc,dtype=np.uint32,delimiter=',',usecols={0},\n",
    "#                    converters={0: lambda s: np.uint32(s.replace('\"',''))})\n",
    "srcdict,srclist = {},[]\n",
    "dstdict,dstlist = {},[]\n",
    "sportdict,sportlist = {},[]\n",
    "dportdict,dportlist = {},[]\n",
    "print('modules and data loaded')\n",
    "\n"
   ]
  },
  {
   "cell_type": "code",
   "execution_count": 55,
   "metadata": {
    "collapsed": false
   },
   "outputs": [
    {
     "data": {
      "text/plain": [
       "'c:\\\\winpython\\\\notebooks\\\\vast\\\\user\\\\vast\\\\lda_scores.csv'"
      ]
     },
     "execution_count": 55,
     "metadata": {},
     "output_type": "execute_result"
    }
   ],
   "source": [
    "#shutil.copyfile(sconnectbu,sconnect)\n",
    "#!cp $sconnectbu $sconnect"
   ]
  },
  {
   "cell_type": "code",
   "execution_count": 3,
   "metadata": {
    "collapsed": false
   },
   "outputs": [],
   "source": [
    "#load LDA scores#update lda doc with scores - either one edge,# or ALL that contain x IP and y port\n",
    "def displaythis() :\n",
    "    # build dict of IP addresses\n",
    "    #sev,score, tstart,srcIP,dstIP,sport,dport,proto,ipkt,ibyt\n",
    "    srcdict,srclist = {},[]\n",
    "    dstdict,dstlist = {},[]\n",
    "    sportdict,sportlist = {},[]\n",
    "    dportdict,dportlist = {},[]\n",
    "    srclist.append('')\n",
    "    dstlist.append('')\n",
    "    sportlist.append('')\n",
    "    dportlist.append('')\n",
    "    with open(sconnect, 'r') as f:\n",
    "        reader = csv.reader(f,delimiter=',') \n",
    "        next(reader);\n",
    "        rowct = 1\n",
    "        for row in reader:\n",
    "            if row[3] not in srcdict:\n",
    "                srclist.append(row[3])\n",
    "                srcdict[row[3]] = struct.unpack(\"!L\", socket.inet_aton(row[3]))[0]\n",
    "            if row[4] not in dstdict:\n",
    "                dstlist.append(row[4])\n",
    "                dstdict[row[4]] = struct.unpack(\"!L\", socket.inet_aton(row[4]))[0]\n",
    "            if row[5] not in sportdict:\n",
    "                sportlist.append(row[5])\n",
    "                sportdict[row[5]] = row[5]\n",
    "            if row[6] not in dportdict:\n",
    "                dportlist.append(row[6])\n",
    "                dportdict[row[6]] = row[6]\n",
    "            if rowct == coff:\n",
    "                break;\n",
    "            rowct += 1    \n",
    "    searches = widgets.Box(width=550,height=200)\n",
    "    searchp = widgets.HBox(width=550,height=150)\n",
    "    actions = widgets.Box(width=50,height=150)\n",
    "    srcselect = widgets.Select(options=srclist,height=min(len(srclist)*10,150),width=120)\n",
    "    dstselect = widgets.Select(options=dstlist,height=min(len(dstlist)*10,150),width=120)\n",
    "    sportselect = widgets.Select(options=sportlist,height=min(len(sportlist)*10,150),width=75)\n",
    "    dportselect = widgets.Select(options=dportlist,height=min(len(dportlist)*10,150),width=75)\n",
    "    tableHTML = (\"<table width='100%'><tr><td>\" +\n",
    "    \"<td>Source IP:</td><td>Dest IP:</td><td>Src Port</td><td>Dst Port:</td></tr></table>\")\n",
    "    srctext = widgets.Text(width=150, placeholder='Quick IP scoring')\n",
    "    toplabel = widgets.HTML(value=tableHTML,width=550)\n",
    "    ratingbut = widgets.RadioButtons(description='Rating:',options=['1', '2', '3'],width=50)\n",
    "    assignbut = widgets.Button(description='Assign')\n",
    "    updatebut = widgets.Button(description='Update')\n",
    "    actions.children = [srctext,ratingbut,assignbut,updatebut]\n",
    "    searchp.children = [srcselect,dstselect,sportselect,dportselect,actions]\n",
    "    searches.children = [toplabel,searchp]\n",
    "    display(searches)\n",
    "    \n",
    "    def update_sconnects(b):\n",
    "        #define logic based on combo of input        \n",
    "        if srctext.value !='':            \n",
    "            src_t = ''\n",
    "            dst_t = ''\n",
    "            if srctext.value in srclist:\n",
    "                src_t = srctext.value\n",
    "            elif srctext.value in dstlist:\n",
    "                dst_t= srctext.value\n",
    "            svals = [src_t,dst_t,sportselect.value,dportselect.value]            \n",
    "        else:\n",
    "            svals = [srcselect.value,dstselect.value,sportselect.value,dportselect.value]\n",
    "        risk = ratingbut.value\n",
    "        shash = 0\n",
    "        fhash = [3,4,5,6,11]\n",
    "        for k in range(len(svals)):\n",
    "            if svals[k] != '':                \n",
    "                shash += 2**k\n",
    "        with open(tmpconnect,'w') as g:\n",
    "            riter = csv.writer(g,delimiter=',',lineterminator='\\n')\n",
    "            riter.writerow([\"sev\"]+[\"score\"] + [\"Date\"] +[\"srcIP\"]+[\"dstIP\"]+[\"SPort\"]+\n",
    "                           [\"DPort\"]+[\"Sfirst\"]+[\"Dfirst\"]+[\"Stotal\"]+[\"Dtotal\"]+[\"SPkts\"]+[\"Dpkts\"]+[\"srcIpInternal\"]+[\"destIpInternal\"]\n",
    "                           +[\"srcGeo\"]+[\"dstGeo\"]+[\"srcDomain\"]+[\"dstDomain\"]\n",
    "                           +[\"gtiSrcRep\"]+[\"gtiDstRep\"]+[\"norseSrcRep\"]+[\"norseDestRep\"])\n",
    "            with open(sconnect, 'r') as f:\n",
    "                reader = csv.reader(f,delimiter=',')\n",
    "                next(reader);\n",
    "                rowct = 1\n",
    "                #sev,tstart,srcIP,dstIP,sport,dport,proto,ipkt,ibyt,lda_score\n",
    "                for row in reader: \n",
    "                    result = 0\n",
    "                    for n in range(0,5):\n",
    "                        if (2**n & shash) > 0:                        \n",
    "                            if row[fhash[n]] == svals[n]:\n",
    "                                result += 2**n\n",
    "                    if result == shash:\n",
    "                        row[0] = risk\n",
    "                        print(row)\n",
    "                    riter.writerow(row) \n",
    "                    rowct += 1\n",
    "        shutil.copyfile(tmpconnect,sconnect)\n",
    "            \n",
    "    def savesort(b):\n",
    "        with open(stemp,'w') as g:\n",
    "            riter = csv.writer(g,delimiter=',',lineterminator='\\n')\n",
    "            riter.writerow([\"sev\"]+[\"score\"] + [\"Date\"] +[\"srcIP\"]+[\"dstIP\"]+[\"SPort\"]+\n",
    "                           [\"DPort\"]+[\"Sfirst\"]+[\"Dfirst\"]+[\"Stotal\"]+[\"Dtotal\"]+[\"SPkts\"]+[\"Dpkts\"]+[\"srcIpInternal\"]+[\"destIpInternal\"]\n",
    "                           +[\"srcGeo\"]+[\"dstGeo\"]+[\"srcDomain\"]+[\"dstDomain\"]\n",
    "                           +[\"gtiSrcRep\"]+[\"gtiDstRep\"]+[\"norseSrcRep\"]+[\"norseDestRep\"])\n",
    "            reader = csv.reader(open(sconnect), delimiter=\",\")\n",
    "            next(reader)\n",
    "            srtlist = sorted(reader, key=lambda x: (int(x[0]), float(x[1])))\n",
    "            riter.writerows(srtlist)\n",
    "        #!mv $stemp $sconnect\n",
    "        shutil.copyfile(stemp,sconnect)\n",
    "\n",
    "    assignbut.on_click(update_sconnects)\n",
    "    updatebut.on_click(savesort)\n",
    "\n",
    "\n",
    "#bisect - linecache\n",
    "# iterate through IP addresses and attach ip location info\n",
    "\n",
    "# print IP addresses\n",
    "def geoip() :\n",
    "    srcdict,srclist = {},[]\n",
    "    dstdict,dstlist = {},[]\n",
    "    sportdict,sportlist = {},[]\n",
    "    dportdict,dportlist = {},[]\n",
    "    srclist.append('')\n",
    "    dstlist.append('')\n",
    "    sportlist.append('')\n",
    "    dportlist.append('')\n",
    "    with open(sconnect, 'r') as f:\n",
    "        reader = csv.reader(f,delimiter=',') \n",
    "        next(reader)\n",
    "        rowct = 1\n",
    "        for row in reader:\n",
    "            if row[3] not in srcdict:\n",
    "                srclist.append(row[3])\n",
    "                srcdict[row[3]] = struct.unpack(\"!L\", socket.inet_aton(row[3]))[0]\n",
    "            if row[4] not in dstdict:\n",
    "                dstlist.append(row[4])\n",
    "                dstdict[row[4]] = struct.unpack(\"!L\", socket.inet_aton(row[4]))[0]\n",
    "            if row[5] not in sportdict:\n",
    "                sportlist.append(row[5])\n",
    "                sportdict[row[5]] = row[5]\n",
    "            if row[6] not in dportdict:\n",
    "                dportlist.append(row[6])\n",
    "                dportdict[row[6]] = row[6]\n",
    "            if rowct == coff:\n",
    "                break;\n",
    "            rowct += 1    \n",
    "            linecache.clearcache()\n",
    "    for srcip in srcdict:\n",
    "        srcdict[srcip] = linecache.getline(iploc, bisect.bisect(iplist,srcdict[srcip])).replace('\\n','')\n",
    "    for dstip in dstdict:\n",
    "        dstdict[dstip] = linecache.getline(iploc, bisect.bisect(iplist,dstdict[dstip])).replace('\\n','')\n",
    "    with open(sconnect, 'r') as f:\n",
    "        reader = csv.reader(f,delimiter=',') \n",
    "        next(reader)\n",
    "        rowct = 1\n",
    "        for row in reader:\n",
    "            #print \"line\",rowct,row,\":\"\n",
    "            if srcdict[row[3]] == '':\n",
    "                srcip = 'unknown'\n",
    "            else:\n",
    "                srcip = srcdict[row[3]]\n",
    "            if dstdict[row[4]] == '':\n",
    "                dstip = 'unknown'\n",
    "            else:\n",
    "                dstip = dstdict[row[4]]\n",
    "            srcgeoip = srcip.replace('\"','').split(',')\n",
    "            dstgeoip = dstip.replace('\"','').split(',')\n",
    "            \n",
    "            print('row',rowct,':',row[3],srcgeoip[4:6],srcgeoip[8:10],\"-->\",row[4],dstgeoip[4:6],dstgeoip[8:10] )\n",
    "            if rowct == 100:\n",
    "                break\n",
    "            rowct += 1\n",
    "\n",
    "def set_rules():\n",
    "    rops = ['leq','leq','leq','leq','leq','leq']\n",
    "    rvals = ['','','',1024,'',54]\n",
    "    risk = 2\n",
    "    apply_rules(rops,rvals,risk)\n",
    "    rops = ['leq','leq','leq','leq','eq','eq']\n",
    "    rvals = ['','','',1024,3,152]\n",
    "    risk = 2\n",
    "    apply_rules(rops,rvals,risk)\n",
    "    \n",
    "    rops = ['leq','leq','leq','leq','eq','eq']\n",
    "    rvals = ['','','',1024,2,104]\n",
    "    risk = 2\n",
    "    apply_rules(rops,rvals,risk)\n",
    "    \n",
    "    rops = ['leq','leq','eq','leq','leq','leq']\n",
    "    rvals = ['','',0,1023,'','']\n",
    "    risk = 2\n",
    "\n",
    "    #apply_rules(rops,rvals,risk)\n",
    "\n",
    "def apply_rules(rops,rvals,risk):\n",
    "    #define logic based on combo of input\n",
    "    rhash = 0 # rule hash\n",
    "    rfhash = [3,4,5,6,9,11] # Columns to compare with\n",
    "    for k in range(len(rvals)):\n",
    "        if rvals[k] != '':                \n",
    "            rhash += 2**k\n",
    "    with open(tmpconnect,'w') as g:\n",
    "        riter = csv.writer(g,delimiter=',',lineterminator='\\n')\n",
    "        riter.writerow([\"sev\"]+[\"score\"] + [\"Date\"] +[\"srcIP\"]+[\"dstIP\"]+[\"SPort\"]+\n",
    "                           [\"DPort\"]+[\"Sfirst\"]+[\"Dfirst\"]+[\"Stotal\"]+[\"Dtotal\"]+[\"SPkts\"]+[\"Dpkts\"]+[\"srcIpInternal\"]+[\"destIpInternal\"]\n",
    "                           +[\"srcGeo\"]+[\"dstGeo\"]+[\"srcDomain\"]+[\"dstDomain\"]\n",
    "                           +[\"gtiSrcRep\"]+[\"gtiDstRep\"]+[\"norseSrcRep\"]+[\"norseDestRep\"])\n",
    "        with open(sconnect, 'r') as f:\n",
    "            reader = csv.reader(f,delimiter=',')\n",
    "            next(reader)\n",
    "            rowct = 1\n",
    "            #sev,tstart,srcIP,dstIP,sport,dport,proto,ipkt,ibyt,lda_score\n",
    "            for row in reader: \n",
    "                result = 0\n",
    "                for n in range(0,6):\n",
    "                    if (2**n & rhash) > 0:\n",
    "                        if rops[n] == 'leq':\n",
    "                            if int(row[rfhash[n]]) <= int(rvals[n]):\n",
    "                                result += 2**n                           \n",
    "                        if rops[n] == 'eq':\n",
    "                            if int(row[rfhash[n]]) == int(rvals[n]):\n",
    "                                result += 2**n                           \n",
    "                if result == rhash:\n",
    "                    row[0] = risk\n",
    "                    print(row)\n",
    "                    rowct += 1\n",
    "                riter.writerow(row) \n",
    "    print('rows applied', rowct)         \n",
    "    shutil.copyfile(tmpconnect,sconnect)\n",
    "\n",
    "def attack_heuristics():\n",
    "    with open(sconnect, 'r') as f:\n",
    "        reader = csv.reader(f,delimiter=',') \n",
    "        next(reader)\n",
    "        rowct = 1\n",
    "        for row in reader:\n",
    "            if row[3] not in srcdict:\n",
    "                srcdict[row[3]] = row[3]\n",
    "            if row[4] not in dstdict:\n",
    "                 dstdict[row[4]] = row[4]\n",
    "            if row[5] not in sportdict:\n",
    "                sportdict[row[5]] = row[5]\n",
    "            if row[6] not in dportdict:\n",
    "                dportdict[row[6]] = row[6]\n",
    "\n",
    "\n",
    "    df = pd.read_csv(sconnect, error_bad_lines=False)\n",
    "    \n",
    "   \n",
    "    #print df\n",
    "\n",
    "    gb = df.groupby([u'srcIP'])\n",
    "    \n",
    "    #print gb.groups.keys()\n",
    "    \n",
    "    for srcip in gb.groups.keys(): #srcdict:\n",
    "        if len(gb.get_group(srcip)) > 20:\n",
    "            print(srcip,'connects:',len(gb.get_group(srcip)) )\n"
   ]
  },
  {
   "cell_type": "code",
   "execution_count": 4,
   "metadata": {
    "collapsed": false
   },
   "outputs": [
    {
     "data": {
      "text/plain": [
       "'c:\\\\winpython\\\\notebooks\\\\vast\\\\user\\\\vast\\\\lda_scores.csv'"
      ]
     },
     "execution_count": 4,
     "metadata": {},
     "output_type": "execute_result"
    }
   ],
   "source": [
    "shutil.copy(sconnectbu,sconnect)"
   ]
  },
  {
   "cell_type": "code",
   "execution_count": null,
   "metadata": {
    "collapsed": true
   },
   "outputs": [],
   "source": []
  }
 ],
 "metadata": {
  "kernelspec": {
   "display_name": "Python 3",
   "language": "python",
   "name": "python3"
  },
  "language_info": {
   "codemirror_mode": {
    "name": "ipython",
    "version": 3
   },
   "file_extension": ".py",
   "mimetype": "text/x-python",
   "name": "python",
   "nbconvert_exporter": "python",
   "pygments_lexer": "ipython3",
   "version": "3.4.3"
  }
 },
 "nbformat": 4,
 "nbformat_minor": 0
}
