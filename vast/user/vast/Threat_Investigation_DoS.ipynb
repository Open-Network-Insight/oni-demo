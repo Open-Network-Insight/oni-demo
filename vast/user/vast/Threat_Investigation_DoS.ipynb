{
 "metadata": {
  "name": "",
  "signature": "sha256:df03d83de12cf0ccf724f51bf45e66c46712df496db9ffd8aa27508139f7ad76"
 },
 "nbformat": 3,
 "nbformat_minor": 0,
 "worksheets": [
  {
   "cells": [
    {
     "cell_type": "code",
     "collapsed": false,
     "input": [
      "import struct, socket\n",
      "import numpy as np\n",
      "import linecache, bisect\n",
      "import csv\n",
      "import operator\n",
      "\n",
      "contxtpath = '/home/hadoop/ipython/vast/iploc/'\n",
      "nwloc = contxtpath + 'networkcontext.txt'\n",
      "\n",
      "spath = '/home/hadoop/ipython/vast/user/vast/'\n"
     ],
     "language": "python",
     "metadata": {},
     "outputs": [],
     "prompt_number": 1
    },
    {
     "cell_type": "code",
     "collapsed": false,
     "input": [],
     "language": "python",
     "metadata": {},
     "outputs": [],
     "prompt_number": 53
    },
    {
     "cell_type": "code",
     "collapsed": false,
     "input": [
      "#set anchor IP (focus of investigation)\n",
      "# summary query for all IP addresses on all ports that connected with anchor IP\n",
      "anchor_ip = '172.30.0.4'\n",
      "ir_f = spath + \"ir-\" + anchor_ip.replace(\".\",\"_\") + \".tsv\"\n",
      "\n",
      "hivestr =  (\"\\\"set hive.cli.print.header=true;SELECT \" + \n",
      "\"min(tstart) as firstSeen, max(tstart) as lastSeen, + sip as srcIP, dip as dstIP, \" + \n",
      "\"sport as SPort, dport AS Dport, count(sip) as conns, max(ipkt) as maxPkts, avg(ipkt) \" + \n",
      "\"as avgPkts, max(ibyt) as maxBytes, avg(ibyt) as avgBytes FROM vast_netflow WHERE \" + \n",
      "\"(sip =\\'\" + anchor_ip + \"\\'  OR dip=\\'\" + anchor_ip + \"\\') GROUP BY sip, dip,sport,dport\\\"  > \" + ir_f)\n",
      "print hivestr\n",
      "!hive -S -e $hivestr"
     ],
     "language": "python",
     "metadata": {},
     "outputs": [
      {
       "output_type": "stream",
       "stream": "stdout",
       "text": [
        "\"set hive.cli.print.header=true;SELECT min(tstart) as firstSeen, max(tstart) as lastSeen, + sip as srcIP, dip as dstIP, sport as SPort, dport AS Dport, count(sip) as conns, max(ipkt) as maxPkts, avg(ipkt) as avgPkts, max(ibyt) as maxBytes, avg(ibyt) as avgBytes FROM netflow_20140708 WHERE (sip ='172.30.0.4'  OR dip='172.30.0.4') GROUP BY sip, dip,sport,dport\"  > /home/hadoop/ipython/vast/user/vast/ir-172_30_0_4.tsv\n"
       ]
      },
      {
       "output_type": "stream",
       "stream": "stdout",
       "text": [
        "15/04/08 09:56:49 WARN conf.HiveConf: DEPRECATED: Configuration property hive.metastore.local no longer has any effect. Make sure to provide a valid value for hive.metastore.uris if you are connecting to a remote metastore.\r\n"
       ]
      },
      {
       "output_type": "stream",
       "stream": "stdout",
       "text": [
        "^C\r\n"
       ]
      }
     ],
     "prompt_number": 2
    },
    {
     "cell_type": "code",
     "collapsed": false,
     "input": [
      "# calculate number of inbound only, two-way, and outbound only\n",
      "# build dict of IP addresses\n",
      "#firstSeen,lastSeen,srcIP, dstIP, sport,dport,conns, maxPkts, avgPkts,maxBytes, avgBytes\n",
      "srcdict = {}\n",
      "dstdict = {}\n",
      "with open(ir_f, 'r') as f:\n",
      "    reader = csv.reader(f,delimiter='\\t') \n",
      "    reader.next();\n",
      "    rowct = 1\n",
      "    for row in reader:\n",
      "        srcdict[row[2]] = struct.unpack(\"!L\", socket.inet_aton(row[2]))[0]\n",
      "        dstdict[row[3]] = struct.unpack(\"!L\", socket.inet_aton(row[3]))[0]\n",
      "        rowct += 1\n",
      "inbound = {};\n",
      "outbound = {};\n",
      "twoway = {};\n",
      "for result in srcdict:\n",
      "    if result in dstdict:\n",
      "        twoway[result] = srcdict[result]\n",
      "    else:\n",
      "        outbound[result] = srcdict[result]\n",
      "for result in dstdict:\n",
      "    \n",
      "    if result not in srcdict:\n",
      "        inbound[result] = dstdict[result]  \n",
      "   "
     ],
     "language": "python",
     "metadata": {},
     "outputs": [],
     "prompt_number": 118
    },
    {
     "cell_type": "code",
     "collapsed": true,
     "input": [
      "print outbound.keys()\n",
      "print twoway.keys()\n",
      "print len(inbound)"
     ],
     "language": "python",
     "metadata": {},
     "outputs": [
      {
       "output_type": "stream",
       "stream": "stdout",
       "text": [
        "['213.13.146.140', '71.6.216.52', '217.117.65.37', '217.117.65.38', '178.175.143.98', '71.6.216.36', '89.248.172.128', '198.50.252.177', '61.183.9.105', '123.249.25.46', '198.27.121.76', '185.31.122.98', '123.249.35.2', '195.39.196.50', '23.95.25.169', '173.244.174.70', '71.6.216.62', '185.19.216.29', '192.99.0.149', '184.105.247.214', '198.27.121.68', '208.73.211.188', '78.138.164.167', '178.32.166.48', '217.117.65.146', '46.105.144.143']\n",
        "['5.101.102.162', '42.62.17.250', '193.253.170.54', '80.215.160.224', '61.174.51.234', '61.174.51.233', '80.12.59.118', '61.174.51.231', '61.174.51.230', '118.127.15.10', '80.12.55.240', '62.116.178.151', '193.253.170.226', '193.253.170.227', '80.12.55.123', '116.10.191.225', '180.96.0.6', '93.120.27.62', '204.42.253.2', '31.132.162.38', '78.47.28.58', '116.10.191.227', '122.228.207.193', '61.174.51.229', '54.79.75.27', '193.253.170.46', '61.174.51.227', '61.174.50.184', '71.6.167.142', '61.228.91.103', '81.177.180.23', '193.253.170.252', '114.232.164.172', '124.232.142.220', '110.45.244.147', '74.82.47.4', '14.204.57.60', '116.10.191.167', '80.12.59.71', '80.12.35.88', '61.174.50.213', '82.221.106.233', '80.215.226.224', '74.82.47.60', '80.12.55.32', '80.215.179.220', '111.225.205.53', '80.12.35.202', '61.174.51.209', '162.248.76.34', '87.255.38.183', '12.2.36.101', '186.46.162.194', '198.20.85.194', '198.20.69.98', '80.10.161.178', '61.147.103.144', '184.105.139.121', '80.12.59.65', '80.215.132.7', '80.12.100.209', '111.241.32.115', '116.10.191.233', '185.56.80.129', '204.124.182.226', '80.12.100.202', '185.56.80.141', '192.230.121.222', '218.77.79.43', '65.111.161.35', '136.159.54.87', '112.124.57.49', '80.12.35.179', '200.105.232.250', '61.228.31.228', '116.10.191.177', '114.231.134.103', '185.11.145.117', '198.20.70.114', '1.93.37.228', '122.155.9.47', '61.228.90.120', '89.136.120.205', '80.10.159.194', '74.82.47.41', '111.241.33.158', '96.40.142.39', '1.62.100.3', '61.174.51.207', '61.174.49.108', '80.12.35.226', '80.80.173.82', '80.12.63.223', '184.172.59.146', '187.57.9.143', '66.240.236.119', '1.163.196.21', '113.108.72.2', '181.161.227.10', '198.143.173.186', '198.143.173.184', '198.143.173.181', '212.83.129.173', '80.12.59.49', '80.10.161.159', '74.82.47.57', '112.124.23.39', '133.218.171.210', '141.212.121.66', '201.210.183.115', '187.207.35.36', '71.6.216.44', '74.82.47.37', '90.84.145.110', '71.6.216.49', '184.105.139.68', '80.12.63.1', '80.12.63.130', '134.191.242.7', '93.174.93.51', '93.174.93.52', '185.51.114.2', '175.18.189.26', '101.68.64.10', '207.244.66.107', '80.12.35.138', '116.10.191.176', '80.12.59.152', '50.143.91.83', '80.82.70.34', '115.135.179.8', '185.5.174.87', '80.12.59.132', '117.195.168.32', '61.174.51.214', '184.105.139.70', '62.210.189.178', '85.25.239.66', '61.160.207.147', '218.6.225.130', '94.102.49.2', '183.136.216.100', '193.253.170.86', '93.180.5.26', '203.195.219.96', '116.10.191.162', '174.139.113.58', '94.102.51.229', '61.174.50.224', '116.10.191.164', '61.160.202.164', '200.27.136.44', '116.10.191.210', '116.10.191.212', '61.231.94.160', '80.82.78.87', '1.234.45.181', '198.20.69.74', '123.125.203.180', '80.12.35.153', '115.60.114.218', '80.12.55.255', '101.227.241.181', '182.138.146.115', '80.12.55.156', '1.163.6.204', '71.6.135.131', '193.253.170.232', '93.174.93.164', '80.12.55.73', '61.174.51.198', '118.192.48.27', '60.173.26.53', '193.253.170.136', '27.210.44.253', '61.147.103.138', '190.29.15.227', '141.212.121.130', '122.225.103.118', '62.109.29.83', '61.174.50.235']\n",
        "1\n"
       ]
      }
     ],
     "prompt_number": 119
    },
    {
     "cell_type": "code",
     "collapsed": false,
     "input": [
      "# load IP location information -- LONG step\n",
      "# load fromIP into ndarray\n",
      "iplist = np.loadtxt(iploc,dtype=np.uint32,delimiter=',',usecols={0},\n",
      "                    converters={0: lambda s: np.uint32(s.replace('\"',''))})\n",
      "# get geospatial info\n",
      "for srcip in outbound:\n",
      "    outbound[srcip] = linecache.getline(iploc, bisect.bisect(iplist,outbound[srcip]))\n",
      "print \"outbound connections located.\"\n",
      "for dstip in twoway:\n",
      "        twoway[dstip] = linecache.getline(iploc, bisect.bisect(iplist,twoway[dstip]))\n",
      "print \"twoway connections located.\"\n",
      "for srcip in inbound:\n",
      "        inbound[srcip] = linecache.getline(iploc, bisect.bisect(iplist,inbound[srcip]))\n",
      "print \"inbound connections located.\"\n",
      "#print outbound\n",
      "#print twoway"
     ],
     "language": "python",
     "metadata": {},
     "outputs": [
      {
       "output_type": "stream",
       "stream": "stdout",
       "text": [
        "outbound connections located.\n",
        "twoway connections located.\n",
        "inbound connections located.\n"
       ]
      }
     ],
     "prompt_number": 120
    },
    {
     "cell_type": "code",
     "collapsed": false,
     "input": [
      "print inbound"
     ],
     "language": "python",
     "metadata": {},
     "outputs": [
      {
       "output_type": "stream",
       "stream": "stdout",
       "text": [
        "{'146.185.239.104': '\"2461658880\",\"2461659135\",\"LU\",\"Luxembourg\",\"Luxembourg\",\"Luxembourg\",\"49.611670\",\"6.130000\",\"Cubehost\",\"-\"\\n'}\n"
       ]
      }
     ],
     "prompt_number": 123
    },
    {
     "cell_type": "code",
     "collapsed": false,
     "input": [
      "# need some way to combine timelines of outbound and two-way with big picture inbound only\n",
      "\n",
      "# get network context - get start and end ranges\n",
      "## need to write to updated file\n",
      "with open(nwloc, 'r') as f:\n",
      "    reader = csv.reader(f,delimiter=',') \n",
      "    #reader.next()\n",
      "    nwdict = {}\n",
      "    rowct = 1\n",
      "    #address range, description\n",
      "    for row in reader:\n",
      "        iprange = row[0].split('/')\n",
      "        if len(iprange) < 2:\n",
      "            ipend = 0\n",
      "        else:\n",
      "            ipend = int(iprange[1])\n",
      "        nwdict[row[0]] = [struct.unpack(\"!L\", socket.inet_aton(iprange[0]))[0],\n",
      "                          struct.unpack(\"!L\", socket.inet_aton(iprange[0]))[0]+2**(32-ipend)-1,\n",
      "                          row[1]]\n",
      "        #dstdict[row[3]] = struct.unpack(\"!L\", socket.inet_aton(row[3]))[0]\n",
      "        rowct += 1\n",
      " \n",
      "# get geospatial info\n",
      "nwoutbound = {}\n",
      "nwtwoway = {}\n",
      "nwinbound = {}\n",
      "for srcip in outbound:\n",
      "        nwoutbound[srcip] = linecache.getline(nwloc, bisect.bisect(iplist,outbound[srcip]))\n",
      "print \"outbound connections located.\"\n",
      "for dstip in twoway:\n",
      "        nwtwoway[dstip] = linecache.getline(nwloc, bisect.bisect(iplist,twoway[dstip]))\n",
      "print \"twoway connections located.\"\n",
      "for srcip in inbound:\n",
      "        nwinbound[srcip] = linecache.getline(nwloc, bisect.bisect(iplist,inbound[srcip]))\n",
      "print \"inbound connections located.\"\n",
      "\n"
     ],
     "language": "python",
     "metadata": {},
     "outputs": [
      {
       "output_type": "stream",
       "stream": "stdout",
       "text": [
        "outbound connections located.\n",
        "twoway connections located.\n",
        "inbound connections located."
       ]
      },
      {
       "output_type": "stream",
       "stream": "stdout",
       "text": [
        "\n"
       ]
      }
     ],
     "prompt_number": 114
    },
    {
     "cell_type": "code",
     "collapsed": false,
     "input": [
      "print nwoutbound"
     ],
     "language": "python",
     "metadata": {},
     "outputs": []
    },
    {
     "cell_type": "code",
     "collapsed": false,
     "input": [
      "# how many bytes were exchanged\n",
      "\n",
      "# detail query for two-way and outbound only\n",
      "\"set hive.cli.print.header=true;SELECT tstart, tend, sip as srcIP, \n",
      "dip as dstIP, proto as Proto, sport as SPort, dport AS Dport,ipkt as \n",
      "Pkts, ibyt as Bytes  FROM netflow_20140708 WHERE \n",
      "(dip IN('213.190.153.47','10.128.30.62','134.191.242.7','134.191.236.133',\n",
      "        '174.139.113.58','134.191.236.140','134.191.240.76','134.191.240.74',\n",
      "        '134.191.241.36','134.191.240.112', '134.191.240.68','134.191.240.106')\n",
      " AND sip ='174.139.113.58') OR \n",
      "(sip IN('213.190.153.47','10.128.30.62','134.191.242.7','134.191.236.133',\n",
      "        '174.139.113.58','134.191.236.140','134.191.240.76','134.191.240.74',\n",
      "        '134.191.241.36','134.191.240.112', '134.191.240.68','134.191.240.106') \n",
      " AND dip ='174.139.113.58') SORT BY tstart\"  > /home/hadoop/ipython/user/gbabb/sbdet-174_139_113_58.tsv"
     ],
     "language": "python",
     "metadata": {},
     "outputs": []
    },
    {
     "cell_type": "markdown",
     "metadata": {},
     "source": [
      "<h4> Save for Storyboard </h4>"
     ]
    },
    {
     "cell_type": "code",
     "collapsed": false,
     "input": [
      "# push to json  worldmap\n",
      "for srcip in twoway:\n",
      "    row =  twoway[srcip].replace('\"','').split(',')\n",
      "    #print row  #row[7],row[6],\n",
      "    elem = (\"{ \\\"type\\\": \\\"Feature\\\",\\\"properties\\\":{\\\"location\\\":\\\"\" + row[8] + \"\\\"\" +\n",
      "    \",\\\"ip\\\":\\\"\"+srcip+\"\\\",\\\"type\\\":1}, \\\"geometry\\\": { \\\"type\\\": \\\"Point\\\", \\\"coordinates\\\": \" +\n",
      "    \"[\"+row[7]+\",\"+ row[6]+\" ] } }\\n,\")\n",
      "    #print elem\n",
      "rowct = 1\n",
      "for srcip in inbound:\n",
      "    #print inbound[srcip]\n",
      "    row =  inbound[srcip].replace('\"','').split(',')\n",
      "    #create hash of iploc and only print unique ones\n",
      "    if len(row) > 8 and (rowct>=100001 and rowct <= 103000):\n",
      "        elem = (\"{ \\\"type\\\": \\\"Feature\\\",\\\"properties\\\":{\\\"location\\\":\\\"\" + row[8] + \"\\\"\" +\n",
      "        \",\\\"ip\\\":\\\"\"+srcip+\"\\\",\\\"type\\\":2}, \\\"geometry\\\": { \\\"type\\\": \\\"Point\\\", \\\"coordinates\\\": \" +\n",
      "        \"[\"+row[7]+\",\"+ row[6]+\" ] } }\\n,\")\n",
      "        print elem\n",
      "    rowct += 1\n",
      "    \n"
     ],
     "language": "python",
     "metadata": {},
     "outputs": []
    },
    {
     "cell_type": "code",
     "collapsed": false,
     "input": [
      "# record analysis\n",
      "# push to json file(s) - file names for event timeline, worldmap, dendrogram"
     ],
     "language": "python",
     "metadata": {},
     "outputs": []
    }
   ],
   "metadata": {}
  }
 ]
}