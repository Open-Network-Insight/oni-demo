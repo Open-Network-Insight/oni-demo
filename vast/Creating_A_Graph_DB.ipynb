{
 "metadata": {
  "name": "",
  "signature": "sha256:dd25babc43d24882383b259bbf44c82063498490da85b11b16257edf37614da2"
 },
 "nbformat": 3,
 "nbformat_minor": 0,
 "worksheets": [
  {
   "cells": [
    {
     "cell_type": "markdown",
     "metadata": {},
     "source": [
      "<p>In order to use the graph-based functions in this tutorial, you need to first create a graph database with the Intel Analytics Toolkit.</p>\n",
      "<p>This workbook walks you through the thought process and code used to construct one of the graphs used to analyze the VAST challenge data.</p>\n",
      "<p>First, you need to load the needed libraries in python, including the IAT.</p>"
     ]
    },
    {
     "cell_type": "code",
     "collapsed": false,
     "input": [
      "import json\n",
      "import numpy as np\n",
      "import matplotlib.pyplot as plt\n",
      "%matplotlib inline\n",
      "import intelanalytics as ia\n",
      "\n",
      "print 'libraries loaded'\n",
      "ia.connect()"
     ],
     "language": "python",
     "metadata": {},
     "outputs": [
      {
       "output_type": "stream",
       "stream": "stdout",
       "text": [
        "libraries loaded\n",
        "Already connected to intelanalytics server.\n"
       ]
      }
     ],
     "prompt_number": 15
    },
    {
     "cell_type": "markdown",
     "metadata": {},
     "source": [
      "<p> The steps to create a graph database are pretty straightforward, but there is some thought required between each step.  The basic steps are:\n",
      "    <ol><li>Load data from raw file into a Data Frame</li>\n",
      "    <li>Define the vertexes (nodes) and edges </li>\n",
      "    <li>Build the graph</li></ol></p>"
     ]
    },
    {
     "cell_type": "markdown",
     "metadata": {},
     "source": [
      "<p> Loading data from a CSV file into a dataframe requires you to define a schema.  If a SQL query is used to get the data, then you already have what you need to create the schema.  For example, the following comes from Hue for the query used to generate the CSV data.</p>\n",
      "firstseensrcip \tSTRING_TYPE<br>\n",
      "firstseendestip \tSTRING_TYPE<br>\n",
      "firstseensrcport \tINT_TYPE<br>\n",
      "firstseendestport \tINT_TYPE<br>\n",
      "avgfirstsrcbytes \tDOUBLE_TYPE<br>\n",
      "avgfirstdstbytes \tDOUBLE_TYPE<br>\n",
      "avgtotalsrcbytes \tDOUBLE_TYPE<br>\n",
      "avgtotaldstbytes \tDOUBLE_TYPE<br>\n",
      "avgfirstsrcpkts \tDOUBLE_TYPE<br>\n",
      "avgfirstsrcpkts \tDOUBLE_TYPE<br>\n",
      "This shows that you will need to use the schema types (string, int32,float32).  This results in the lines of code below:"
     ]
    },
    {
     "cell_type": "code",
     "collapsed": false,
     "input": [
      "# create a graph with src ip -> src port , dst_ip -> dst port\n",
      "dataset = r\"../hadoop/graphflow/vast/topic_graph.csv\"\n",
      "\n",
      "schema = [('srcip', str),('dstip', str), ('sport', int32),  ('dport', int32), \n",
      "('fs_srcbyte', float32),('fs_dstbyte', float32),('tot_srcbyte', float64),('tot_dstbyte', float64),\n",
      "('fs_srcpkt', float32),('fs_dstpkt', float32)]\n",
      "\n",
      "csv_file = CsvFile(dataset, schema, skip_header_lines = 0)\n",
      "\n",
      "print(\"Creating DataFrame\")\n",
      "\n",
      "f = Frame(csv_file)\n"
     ],
     "language": "python",
     "metadata": {},
     "outputs": [
      {
       "output_type": "stream",
       "stream": "stdout",
       "text": [
        "Creating DataFrame\n",
        "\r",
        "initializing..."
       ]
      },
      {
       "output_type": "stream",
       "stream": "stdout",
       "text": [
        "\r",
        "initializing..."
       ]
      },
      {
       "output_type": "stream",
       "stream": "stdout",
       "text": [
        "\r",
        "initializing..."
       ]
      },
      {
       "output_type": "stream",
       "stream": "stdout",
       "text": [
        "\r",
        "[.........................]   0.12% Tasks retries:0 Time 0:00:00"
       ]
      },
      {
       "output_type": "stream",
       "stream": "stdout",
       "text": [
        "\r",
        "[==.......................]   9.62% Tasks retries:0 Time 0:00:02"
       ]
      },
      {
       "output_type": "stream",
       "stream": "stdout",
       "text": [
        "\r",
        "[==.......................]  11.25% Tasks retries:0 Time 0:00:04"
       ]
      },
      {
       "output_type": "stream",
       "stream": "stdout",
       "text": [
        "\r",
        "[===......................]  12.56% Tasks retries:0 Time 0:00:06"
       ]
      },
      {
       "output_type": "stream",
       "stream": "stdout",
       "text": [
        "\r",
        "[===......................]  15.94% Tasks retries:0 Time 0:00:08"
       ]
      },
      {
       "output_type": "stream",
       "stream": "stdout",
       "text": [
        "\r",
        "[=========................]  37.56% Tasks retries:0 Time 0:00:10"
       ]
      },
      {
       "output_type": "stream",
       "stream": "stdout",
       "text": [
        "\r",
        "[==========...............]  42.06% Tasks retries:0 Time 0:00:12"
       ]
      },
      {
       "output_type": "stream",
       "stream": "stdout",
       "text": [
        "\r",
        "[============.............]  50.12% Tasks retries:0 Time 0:00:14"
       ]
      },
      {
       "output_type": "stream",
       "stream": "stdout",
       "text": [
        "\r",
        "[============.............]  50.37% Tasks retries:0 Time 0:00:16"
       ]
      },
      {
       "output_type": "stream",
       "stream": "stdout",
       "text": [
        "\r",
        "[===============..........]  61.76% Tasks retries:0 Time 0:00:18"
       ]
      },
      {
       "output_type": "stream",
       "stream": "stdout",
       "text": [
        "\r",
        "[===============..........]  62.62% Tasks retries:0 Time 0:00:20"
       ]
      },
      {
       "output_type": "stream",
       "stream": "stdout",
       "text": [
        "\r",
        "[===============..........]  62.87% Tasks retries:0 Time 0:00:22"
       ]
      },
      {
       "output_type": "stream",
       "stream": "stdout",
       "text": [
        "\r",
        "[=================........]  70.83% Tasks retries:0 Time 0:00:24"
       ]
      },
      {
       "output_type": "stream",
       "stream": "stdout",
       "text": [
        "\r",
        "[==================.......]  74.63% Tasks retries:0 Time 0:00:26"
       ]
      },
      {
       "output_type": "stream",
       "stream": "stdout",
       "text": [
        "\r",
        "[==================.......]  74.63% Tasks retries:0 Time 0:00:28"
       ]
      },
      {
       "output_type": "stream",
       "stream": "stdout",
       "text": [
        "\r",
        "[=========================] 100.00% Tasks retries:0 Time 0:00:30\n"
       ]
      }
     ],
     "prompt_number": 16
    },
    {
     "cell_type": "markdown",
     "metadata": {},
     "source": [
      "Next take a look at the contents of the data frame:"
     ]
    },
    {
     "cell_type": "code",
     "collapsed": false,
     "input": [
      "print f.inspect(20)"
     ],
     "language": "python",
     "metadata": {},
     "outputs": [
      {
       "output_type": "stream",
       "stream": "stdout",
       "text": [
        "  srcip:unicode   dstip:unicode   sport:int32   dport:int32   fs_srcbyte:float32   fs_dstbyte:float32   tot_srcbyte:float64   tot_dstbyte:float64   fs_srcpkt:float32   fs_dstpkt:float32  \n",
        "-------------------------------------------------------------------------------------------------------------------------------------------------------------------------------------------\n",
        "  10.0.0.10       172.10.1.100             80         23333                409.0                176.0                 633.0                 392.0                 4.0                 4.0  \n",
        "  10.0.0.10       172.10.1.100             80         34484             104880.0                  0.0              108984.0                2694.0                76.0                47.0  \n",
        "  10.0.0.10       172.10.1.108             80          2703                  0.0                  0.0                  54.0                   0.0                 1.0                 0.0  \n",
        "  10.0.0.10       172.10.1.112             80          2510            2949004.0                  0.0             3064402.0               75130.0              2137.0              1319.0  \n",
        "  10.0.0.10       172.10.1.113             80          3115            1734160.0                  0.0             1802146.0               44520.0              1259.0               780.0  \n",
        "  10.0.0.10       172.10.1.113             80          4744                  0.0                  0.0                  54.0                   0.0                 1.0                 0.0  \n",
        "  10.0.0.10       172.10.1.123             80          2286                  0.0                  0.0                  54.0                   0.0                 1.0                 0.0  \n",
        "  10.0.0.10       172.10.1.124             80          3557                  0.0                  0.0                  54.0                   0.0                 1.0                 0.0  \n",
        "  10.0.0.10       172.10.1.137             80          1456             876472.0                  0.0              910816.0               23456.0               636.0               414.0  \n",
        "  10.0.0.10       172.10.1.155             80          2395             115776.0                  0.0              127440.0                8888.0               216.0               160.0  \n",
        "  10.0.0.10       172.10.1.168             80          1770                  0.0                  0.0                  54.0                   0.0                 1.0                 0.0  \n",
        "  10.0.0.10       172.10.1.172             80          2198                409.0                  0.0                 571.0                 108.0                 3.0                 2.0  \n",
        "  10.0.0.10       172.10.1.18              80          4274                409.0                176.0                 633.0                 392.0                 4.0                 4.0  \n",
        "  10.0.0.10       172.10.1.198             80          2964            1299462.0                  0.0             1350438.0               33096.0               944.0               592.0  \n",
        "  10.0.0.10       172.10.1.203             80         23623                409.0                176.0                 633.0                 392.0                 4.0                 4.0  \n",
        "  10.0.0.10       172.10.1.206             80          5701                  0.0                  0.0                  54.0                   0.0                 1.0                 0.0  \n",
        "  10.0.0.10       172.10.1.211             80         55712                409.0                176.0                 633.0                 392.0                 4.0                 4.0  \n",
        "  10.0.0.10       172.10.1.212             80         14854                  0.0                  0.0                  54.0                   0.0                 1.0                 0.0  \n",
        "  10.0.0.10       172.10.1.214             80          9485                  0.0                  0.0                  54.0                   0.0                 1.0                 0.0  \n",
        "  10.0.0.10       172.10.1.215             80         24751                409.0                176.0                 633.0                 392.0                 4.0                 4.0  \n"
       ]
      }
     ],
     "prompt_number": 18
    },
    {
     "cell_type": "markdown",
     "metadata": {},
     "source": [
      "The data frame is already aggregated by its columns, you can use the data frame to perform similar tasks on a \"raw\" dataset.  "
     ]
    },
    {
     "cell_type": "markdown",
     "metadata": {},
     "source": [
      "\n",
      "<b>Designing the graph</b>\n",
      "<p>The data frame shows you unique combinations of source IP, destination IP, source port, and destination port.  In network flow analysis, the connection between two IP addresses is importants, but it is just as important which ports they choose for the communication.  For example, web servers generally use port 80 for HTTP communication and port 443 for HTTPS.  You might expect this to be a way to label an unknown server, or to identify web servers that were using different ports.</p>\n",
      "<p> Since a graph algorithm will require meaningful connections between entities, here is one possible way to construct that out of the data frame:\n",
      "<ul><li>Use source IP's as the left side of the communication link.  Use destination IP's on the right side.  Both of these are considered sets of nodes (vertexes).</li>\n",
      "<li> Because the graph is bipartite (left and right side), you have to do the same thing for the source ports and destination port data.  Put source port on the right side, and destination port on the left side.  This may seem backwards, but it will reduce the graph clutter (edge crossings) later if you want to visualize the results.</li>\n",
      "<li> Now you have a lot of numerical data that is about the <i>connection</i> itself, not the addresses <i>making</i> the connection.  This data is relevant to the edges, and should be added to it.  Each of the remaining columns should be added to the appropriate edge for which it contains information.</li>\n",
      "<li>  If you follow the diagram below, you will see that there is one more connection that is missing (IP address to IP address).  We'll come back to that one later.</li></ul></p>\n",
      "<p> Now run the code below to create the vertexes and edges.</p>\n"
     ]
    },
    {
     "cell_type": "code",
     "collapsed": false,
     "input": [
      "srcips = VertexRule(\"srcip\", f.srcip,{\"vertex_type\": \"L\"})#may want to add properties\n",
      "sports = VertexRule(\"sport\", f.sport,{\"vertex_type\": \"R\"})\n",
      "dstips = VertexRule(\"dstip\", f.dstip,{\"vertex_type\": \"R\"})#may want to add properties\n",
      "dports = VertexRule(\"dport\", f.dport,{\"vertex_type\": \"L\"})\n",
      "from_edges= EdgeRule(\"from_port\", srcips, sports, {\"fs_srcbyte\": f.fs_srcbyte,\"tot_srcbyte\": f.tot_srcbyte,\n",
      "\t\t\t\"fs_srcpkt\": f.fs_srcpkt},bidirectional=True)\n",
      "to_edges= EdgeRule(\"to_port\", dstips, dports, {\"fs_dstbyte\": f.fs_dstbyte,\"tot_dstbyte\": f.tot_dstbyte,\n",
      "\t\t\t\"fs_dstpkt\": f.fs_dstpkt},bidirectional=True)\n",
      "print 'vertex and edgee rules loaded'"
     ],
     "language": "python",
     "metadata": {},
     "outputs": [
      {
       "output_type": "stream",
       "stream": "stdout",
       "text": [
        "vertex and edgee rules loaded\n"
       ]
      }
     ],
     "prompt_number": 19
    },
    {
     "cell_type": "markdown",
     "metadata": {},
     "source": [
      "<p> Now all that remains is to create the graph.  <b>IMPORTANT NOTE:</b> The graph below may already exist.  If you see it in the list of graphs, the create step will throw an error.  Change the string below to a different name than any of the graph databases in the list.</p>"
     ]
    },
    {
     "cell_type": "code",
     "collapsed": false,
     "input": [
      "gname = 'vast_netflow_topic_01'\n",
      "\n",
      "g_names = get_graph_names()\n",
      "\n",
      "print g_names"
     ],
     "language": "python",
     "metadata": {},
     "outputs": [
      {
       "output_type": "stream",
       "stream": "stdout",
       "text": [
        "[]\n"
       ]
      }
     ],
     "prompt_number": 20
    },
    {
     "cell_type": "markdown",
     "metadata": {},
     "source": [
      "<p>The code in the cell below creates the graph.  Note that it takes two steps: one for the source IP -> source port connections and one for the destination IP -> destination port connections.</p>\n"
     ]
    },
    {
     "cell_type": "code",
     "collapsed": false,
     "input": [
      "print(\"Starting first data frame tasks ...\")\n",
      "print(\"Creating \" + gname)\n",
      "\n",
      "#g = TitanGraph([srcips,sports,from_edges] ,gname)\n",
      "g = ia.TitanGraph([srcips,sports,from_edges,dstips,dports,to_edges], gname)\n",
      "print(\"create task completed\")\n",
      "#g.append([dstips,dports,to_edges])\n",
      "#print(\"append task completed\")\n"
     ],
     "language": "python",
     "metadata": {},
     "outputs": [
      {
       "output_type": "stream",
       "stream": "stdout",
       "text": [
        "Starting first data frame tasks ...\n",
        "Creating vast_netflow_topic_01\n",
        "\r",
        "initializing..."
       ]
      },
      {
       "output_type": "stream",
       "stream": "stdout",
       "text": [
        "\r",
        "initializing..."
       ]
      },
      {
       "output_type": "stream",
       "stream": "stdout",
       "text": [
        "\r",
        "initializing..."
       ]
      },
      {
       "output_type": "stream",
       "stream": "stdout",
       "text": [
        "\r",
        "initializing..."
       ]
      },
      {
       "output_type": "stream",
       "stream": "stdout",
       "text": [
        "\r",
        "initializing..."
       ]
      },
      {
       "output_type": "stream",
       "stream": "stdout",
       "text": [
        "\r",
        "initializing..."
       ]
      },
      {
       "output_type": "stream",
       "stream": "stdout",
       "text": [
        "\r",
        "initializing..."
       ]
      },
      {
       "output_type": "stream",
       "stream": "stdout",
       "text": [
        "\r",
        "initializing..."
       ]
      },
      {
       "output_type": "stream",
       "stream": "stdout",
       "text": [
        "\r",
        "initializing..."
       ]
      },
      {
       "output_type": "stream",
       "stream": "stdout",
       "text": [
        "\r",
        "initializing..."
       ]
      },
      {
       "output_type": "stream",
       "stream": "stdout",
       "text": [
        "\r",
        "initializing..."
       ]
      },
      {
       "output_type": "stream",
       "stream": "stdout",
       "text": [
        "\r",
        "initializing..."
       ]
      },
      {
       "output_type": "stream",
       "stream": "stdout",
       "text": [
        "\r",
        "initializing..."
       ]
      },
      {
       "output_type": "stream",
       "stream": "stdout",
       "text": [
        "\r",
        "initializing..."
       ]
      },
      {
       "output_type": "stream",
       "stream": "stdout",
       "text": [
        "\r",
        "initializing..."
       ]
      },
      {
       "output_type": "stream",
       "stream": "stdout",
       "text": [
        "\r",
        "initializing..."
       ]
      },
      {
       "output_type": "stream",
       "stream": "stdout",
       "text": [
        "\r",
        "initializing..."
       ]
      },
      {
       "output_type": "stream",
       "stream": "stdout",
       "text": [
        "\r",
        "initializing..."
       ]
      },
      {
       "output_type": "stream",
       "stream": "stdout",
       "text": [
        "\r",
        "initializing..."
       ]
      },
      {
       "output_type": "stream",
       "stream": "stdout",
       "text": [
        "\r",
        "initializing..."
       ]
      },
      {
       "output_type": "stream",
       "stream": "stdout",
       "text": [
        "\r",
        "[===......................]  14.33% Tasks retries:0 Time 0:00:00"
       ]
      },
      {
       "output_type": "stream",
       "stream": "stdout",
       "text": [
        "\r",
        "[===......................]  14.33% Tasks retries:0 Time 0:00:02"
       ]
      },
      {
       "output_type": "stream",
       "stream": "stdout",
       "text": [
        "\r",
        "[===......................]  14.33% Tasks retries:0 Time 0:00:04"
       ]
      },
      {
       "output_type": "stream",
       "stream": "stdout",
       "text": [
        "\r",
        "[===......................]  14.33% Tasks retries:0 Time 0:00:06"
       ]
      },
      {
       "output_type": "stream",
       "stream": "stdout",
       "text": [
        "\r",
        "[===......................]  14.33% Tasks retries:0 Time 0:00:08"
       ]
      },
      {
       "output_type": "stream",
       "stream": "stdout",
       "text": [
        "\r",
        "[===......................]  14.33% Tasks retries:0 Time 0:00:10"
       ]
      },
      {
       "output_type": "stream",
       "stream": "stdout",
       "text": [
        "\r",
        "[===......................]  14.33% Tasks retries:0 Time 0:00:12"
       ]
      },
      {
       "output_type": "stream",
       "stream": "stdout",
       "text": [
        "\r",
        "[===......................]  14.33% Tasks retries:0 Time 0:00:14"
       ]
      },
      {
       "output_type": "stream",
       "stream": "stdout",
       "text": [
        "\r",
        "[===......................]  14.33% Tasks retries:0 Time 0:00:16"
       ]
      },
      {
       "output_type": "stream",
       "stream": "stdout",
       "text": [
        "\r",
        "[===......................]  14.33% Tasks retries:0 Time 0:00:18"
       ]
      },
      {
       "output_type": "stream",
       "stream": "stdout",
       "text": [
        "\r",
        "[===......................]  14.33% Tasks retries:0 Time 0:00:20"
       ]
      },
      {
       "output_type": "stream",
       "stream": "stdout",
       "text": [
        "\r",
        "[===......................]  14.33% Tasks retries:0 Time 0:00:22"
       ]
      },
      {
       "output_type": "stream",
       "stream": "stdout",
       "text": [
        "\r",
        "[====.....................]  16.83% Tasks retries:0 Time 0:00:24"
       ]
      },
      {
       "output_type": "stream",
       "stream": "stdout",
       "text": [
        "\r",
        "[====.....................]  18.00% Tasks retries:0 Time 0:00:26"
       ]
      },
      {
       "output_type": "stream",
       "stream": "stdout",
       "text": [
        "\r",
        "[====.....................]  18.50% Tasks retries:0 Time 0:00:28"
       ]
      },
      {
       "output_type": "stream",
       "stream": "stdout",
       "text": [
        "\r",
        "[====.....................]  18.50% Tasks retries:0 Time 0:00:30"
       ]
      },
      {
       "output_type": "stream",
       "stream": "stdout",
       "text": [
        "\r",
        "[====.....................]  18.50% Tasks retries:0 Time 0:00:32"
       ]
      },
      {
       "output_type": "stream",
       "stream": "stdout",
       "text": [
        "\r",
        "[====.....................]  19.00% Tasks retries:0 Time 0:00:34"
       ]
      },
      {
       "output_type": "stream",
       "stream": "stdout",
       "text": [
        "\r",
        "[=====....................]  21.00% Tasks retries:0 Time 0:00:36"
       ]
      },
      {
       "output_type": "stream",
       "stream": "stdout",
       "text": [
        "\r",
        "[===========..............]  47.67% Tasks retries:0 Time 0:00:38"
       ]
      },
      {
       "output_type": "stream",
       "stream": "stdout",
       "text": [
        "\r",
        "[===========..............]  47.67% Tasks retries:0 Time 0:00:40"
       ]
      },
      {
       "output_type": "stream",
       "stream": "stdout",
       "text": [
        "\r",
        "[===========..............]  47.67% Tasks retries:0 Time 0:00:42"
       ]
      },
      {
       "output_type": "stream",
       "stream": "stdout",
       "text": [
        "\r",
        "[===========..............]  47.67% Tasks retries:0 Time 0:00:44"
       ]
      },
      {
       "output_type": "stream",
       "stream": "stdout",
       "text": [
        "\r",
        "[===========..............]  47.67% Tasks retries:0 Time 0:00:46"
       ]
      },
      {
       "output_type": "stream",
       "stream": "stdout",
       "text": [
        "\r",
        "[===========..............]  47.67% Tasks retries:0 Time 0:00:49"
       ]
      },
      {
       "output_type": "stream",
       "stream": "stdout",
       "text": [
        "\r",
        "[===========..............]  47.67% Tasks retries:0 Time 0:00:52"
       ]
      },
      {
       "output_type": "stream",
       "stream": "stdout",
       "text": [
        "\r",
        "[===========..............]  47.67% Tasks retries:0 Time 0:00:55"
       ]
      },
      {
       "output_type": "stream",
       "stream": "stdout",
       "text": [
        "\r",
        "[===========..............]  47.67% Tasks retries:0 Time 0:00:59"
       ]
      },
      {
       "output_type": "stream",
       "stream": "stdout",
       "text": [
        "\r",
        "[===========..............]  47.67% Tasks retries:0 Time 0:01:02"
       ]
      },
      {
       "output_type": "stream",
       "stream": "stdout",
       "text": [
        "\r",
        "[===========..............]  47.67% Tasks retries:0 Time 0:01:05"
       ]
      },
      {
       "output_type": "stream",
       "stream": "stdout",
       "text": [
        "\r",
        "[===========..............]  47.67% Tasks retries:0 Time 0:01:08"
       ]
      },
      {
       "output_type": "stream",
       "stream": "stdout",
       "text": [
        "\r",
        "[===========..............]  47.67% Tasks retries:0 Time 0:01:11"
       ]
      },
      {
       "output_type": "stream",
       "stream": "stdout",
       "text": [
        "\r",
        "[===========..............]  47.67% Tasks retries:0 Time 0:01:14"
       ]
      },
      {
       "output_type": "stream",
       "stream": "stdout",
       "text": [
        "\r",
        "[===========..............]  47.67% Tasks retries:0 Time 0:01:17"
       ]
      },
      {
       "output_type": "stream",
       "stream": "stdout",
       "text": [
        "\r",
        "[===========..............]  47.67% Tasks retries:0 Time 0:01:20"
       ]
      },
      {
       "output_type": "stream",
       "stream": "stdout",
       "text": [
        "\r",
        "[===========..............]  47.67% Tasks retries:0 Time 0:01:23"
       ]
      },
      {
       "output_type": "stream",
       "stream": "stdout",
       "text": [
        "\r",
        "[===========..............]  47.67% Tasks retries:0 Time 0:01:26"
       ]
      },
      {
       "output_type": "stream",
       "stream": "stdout",
       "text": [
        "\r",
        "[===========..............]  47.67% Tasks retries:0 Time 0:01:29"
       ]
      },
      {
       "output_type": "stream",
       "stream": "stdout",
       "text": [
        "\r",
        "[===========..............]  47.67% Tasks retries:0 Time 0:01:32"
       ]
      },
      {
       "output_type": "stream",
       "stream": "stdout",
       "text": [
        "\r",
        "[===========..............]  47.67% Tasks retries:0 Time 0:01:35"
       ]
      },
      {
       "output_type": "stream",
       "stream": "stdout",
       "text": [
        "\r",
        "[===========..............]  47.67% Tasks retries:0 Time 0:01:38"
       ]
      },
      {
       "output_type": "stream",
       "stream": "stdout",
       "text": [
        "\r",
        "[===========..............]  47.67% Tasks retries:0 Time 0:01:41"
       ]
      },
      {
       "output_type": "stream",
       "stream": "stdout",
       "text": [
        "\r",
        "[===========..............]  47.67% Tasks retries:0 Time 0:01:44"
       ]
      },
      {
       "output_type": "stream",
       "stream": "stdout",
       "text": [
        "\r",
        "[===========..............]  47.67% Tasks retries:0 Time 0:01:47"
       ]
      },
      {
       "output_type": "stream",
       "stream": "stdout",
       "text": [
        "\r",
        "[===========..............]  47.67% Tasks retries:0 Time 0:01:51"
       ]
      },
      {
       "output_type": "stream",
       "stream": "stdout",
       "text": [
        "\r",
        "[===========..............]  47.67% Tasks retries:0 Time 0:01:55"
       ]
      },
      {
       "output_type": "stream",
       "stream": "stdout",
       "text": [
        "\r",
        "[===========..............]  47.67% Tasks retries:0 Time 0:01:59"
       ]
      },
      {
       "output_type": "stream",
       "stream": "stdout",
       "text": [
        "\r",
        "[===========..............]  47.67% Tasks retries:0 Time 0:02:03"
       ]
      },
      {
       "output_type": "stream",
       "stream": "stdout",
       "text": [
        "\r",
        "[===========..............]  47.67% Tasks retries:0 Time 0:02:07"
       ]
      },
      {
       "output_type": "stream",
       "stream": "stdout",
       "text": [
        "\r",
        "[===========..............]  47.67% Tasks retries:0 Time 0:02:11"
       ]
      },
      {
       "output_type": "stream",
       "stream": "stdout",
       "text": [
        "\r",
        "[===========..............]  47.67% Tasks retries:0 Time 0:02:15"
       ]
      },
      {
       "output_type": "stream",
       "stream": "stdout",
       "text": [
        "\r",
        "[===========..............]  47.67% Tasks retries:0 Time 0:02:19"
       ]
      },
      {
       "output_type": "stream",
       "stream": "stdout",
       "text": [
        "\r",
        "[===========..............]  47.67% Tasks retries:0 Time 0:02:23"
       ]
      },
      {
       "output_type": "stream",
       "stream": "stdout",
       "text": [
        "\r",
        "[===========..............]  47.67% Tasks retries:0 Time 0:02:27"
       ]
      },
      {
       "output_type": "stream",
       "stream": "stdout",
       "text": [
        "\r",
        "[===========..............]  47.67% Tasks retries:0 Time 0:02:31"
       ]
      },
      {
       "output_type": "stream",
       "stream": "stdout",
       "text": [
        "\r",
        "[===========..............]  47.67% Tasks retries:0 Time 0:02:35"
       ]
      },
      {
       "output_type": "stream",
       "stream": "stdout",
       "text": [
        "\r",
        "[===========..............]  47.67% Tasks retries:0 Time 0:02:40"
       ]
      },
      {
       "output_type": "stream",
       "stream": "stdout",
       "text": [
        "\r",
        "[===========..............]  47.67% Tasks retries:0 Time 0:02:44"
       ]
      },
      {
       "output_type": "stream",
       "stream": "stdout",
       "text": [
        "\r",
        "[===========..............]  47.67% Tasks retries:0 Time 0:02:48"
       ]
      },
      {
       "output_type": "stream",
       "stream": "stdout",
       "text": [
        "\r",
        "[===========..............]  47.67% Tasks retries:0 Time 0:02:53"
       ]
      },
      {
       "output_type": "stream",
       "stream": "stdout",
       "text": [
        "\r",
        "[===========..............]  47.67% Tasks retries:0 Time 0:02:58"
       ]
      },
      {
       "output_type": "stream",
       "stream": "stdout",
       "text": [
        "\r",
        "[===========..............]  47.67% Tasks retries:0 Time 0:03:03"
       ]
      },
      {
       "output_type": "stream",
       "stream": "stdout",
       "text": [
        "\r",
        "[===========..............]  47.67% Tasks retries:0 Time 0:03:08"
       ]
      },
      {
       "output_type": "stream",
       "stream": "stdout",
       "text": [
        "\r",
        "[===========..............]  47.67% Tasks retries:0 Time 0:03:13"
       ]
      },
      {
       "output_type": "stream",
       "stream": "stdout",
       "text": [
        "\r",
        "[===========..............]  47.67% Tasks retries:0 Time 0:03:18"
       ]
      },
      {
       "output_type": "stream",
       "stream": "stdout",
       "text": [
        "\r",
        "[===========..............]  47.67% Tasks retries:0 Time 0:03:23"
       ]
      },
      {
       "output_type": "stream",
       "stream": "stdout",
       "text": [
        "\r",
        "[===========..............]  47.67% Tasks retries:0 Time 0:03:28"
       ]
      },
      {
       "output_type": "stream",
       "stream": "stdout",
       "text": [
        "\r",
        "[===========..............]  47.67% Tasks retries:0 Time 0:03:33"
       ]
      },
      {
       "output_type": "stream",
       "stream": "stdout",
       "text": [
        "\r",
        "[===========..............]  47.67% Tasks retries:0 Time 0:03:38"
       ]
      },
      {
       "output_type": "stream",
       "stream": "stdout",
       "text": [
        "\r",
        "[===========..............]  47.67% Tasks retries:0 Time 0:03:43"
       ]
      },
      {
       "output_type": "stream",
       "stream": "stdout",
       "text": [
        "\r",
        "[===========..............]  47.67% Tasks retries:0 Time 0:03:49"
       ]
      },
      {
       "output_type": "stream",
       "stream": "stdout",
       "text": [
        "\r",
        "[===========..............]  47.67% Tasks retries:0 Time 0:03:55"
       ]
      },
      {
       "output_type": "stream",
       "stream": "stdout",
       "text": [
        "\r",
        "[===========..............]  47.67% Tasks retries:0 Time 0:04:01"
       ]
      },
      {
       "output_type": "stream",
       "stream": "stdout",
       "text": [
        "\r",
        "[===========..............]  47.67% Tasks retries:0 Time 0:04:07"
       ]
      },
      {
       "output_type": "stream",
       "stream": "stdout",
       "text": [
        "\r",
        "[===========..............]  47.67% Tasks retries:0 Time 0:04:13"
       ]
      },
      {
       "output_type": "stream",
       "stream": "stdout",
       "text": [
        "\r",
        "[===========..............]  47.67% Tasks retries:0 Time 0:04:19"
       ]
      },
      {
       "output_type": "stream",
       "stream": "stdout",
       "text": [
        "\r",
        "[===========..............]  47.67% Tasks retries:0 Time 0:04:25"
       ]
      },
      {
       "output_type": "stream",
       "stream": "stdout",
       "text": [
        "\r",
        "[===========..............]  47.67% Tasks retries:0 Time 0:04:31"
       ]
      },
      {
       "output_type": "stream",
       "stream": "stdout",
       "text": [
        "\r",
        "[============.............]  50.67% Tasks retries:0 Time 0:04:37"
       ]
      },
      {
       "output_type": "stream",
       "stream": "stdout",
       "text": [
        "\r",
        "[=============............]  55.00% Tasks retries:0 Time 0:04:44"
       ]
      },
      {
       "output_type": "stream",
       "stream": "stdout",
       "text": [
        "\r",
        "[==============...........]  56.33% Tasks retries:0 Time 0:04:51"
       ]
      },
      {
       "output_type": "stream",
       "stream": "stdout",
       "text": [
        "\r",
        "[==============...........]  58.33% Tasks retries:0 Time 0:04:59"
       ]
      },
      {
       "output_type": "stream",
       "stream": "stdout",
       "text": [
        "\r",
        "[==============...........]  59.00% Tasks retries:0 Time 0:05:06"
       ]
      },
      {
       "output_type": "stream",
       "stream": "stdout",
       "text": [
        "\r",
        "[==============...........]  59.00% Tasks retries:0 Time 0:05:13"
       ]
      },
      {
       "output_type": "stream",
       "stream": "stdout",
       "text": [
        "\r",
        "[==============...........]  59.00% Tasks retries:0 Time 0:05:20"
       ]
      },
      {
       "output_type": "stream",
       "stream": "stdout",
       "text": [
        "\r",
        "[==============...........]  59.00% Tasks retries:0 Time 0:05:27"
       ]
      },
      {
       "output_type": "stream",
       "stream": "stdout",
       "text": [
        "\r",
        "[==============...........]  59.67% Tasks retries:0 Time 0:05:34"
       ]
      },
      {
       "output_type": "stream",
       "stream": "stdout",
       "text": [
        "\r",
        "[==============...........]  59.67% Tasks retries:0 Time 0:05:41"
       ]
      },
      {
       "output_type": "stream",
       "stream": "stdout",
       "text": [
        "\r",
        "[===============..........]  60.00% Tasks retries:0 Time 0:05:48"
       ]
      },
      {
       "output_type": "stream",
       "stream": "stdout",
       "text": [
        "\r",
        "[===============..........]  60.00% Tasks retries:0 Time 0:05:55"
       ]
      },
      {
       "output_type": "stream",
       "stream": "stdout",
       "text": [
        "\r",
        "[===============..........]  60.00% Tasks retries:0 Time 0:06:02"
       ]
      },
      {
       "output_type": "stream",
       "stream": "stdout",
       "text": [
        "\r",
        "[===============..........]  61.67% Tasks retries:0 Time 0:06:09"
       ]
      },
      {
       "output_type": "stream",
       "stream": "stdout",
       "text": [
        "\r",
        "[===============..........]  62.33% Tasks retries:0 Time 0:06:16"
       ]
      },
      {
       "output_type": "stream",
       "stream": "stdout",
       "text": [
        "\r",
        "[================.........]  64.33% Tasks retries:0 Time 0:06:23"
       ]
      },
      {
       "output_type": "stream",
       "stream": "stdout",
       "text": [
        "\r",
        "[================.........]  67.33% Tasks retries:0 Time 0:06:30"
       ]
      },
      {
       "output_type": "stream",
       "stream": "stdout",
       "text": [
        "\r",
        "[================.........]  67.67% Tasks retries:0 Time 0:06:37"
       ]
      },
      {
       "output_type": "stream",
       "stream": "stdout",
       "text": [
        "\r",
        "[================.........]  67.67% Tasks retries:0 Time 0:06:44"
       ]
      },
      {
       "output_type": "stream",
       "stream": "stdout",
       "text": [
        "\r",
        "[=================........]  68.33% Tasks retries:0 Time 0:06:51"
       ]
      },
      {
       "output_type": "stream",
       "stream": "stdout",
       "text": [
        "\r",
        "[=================........]  69.33% Tasks retries:0 Time 0:06:58"
       ]
      },
      {
       "output_type": "stream",
       "stream": "stdout",
       "text": [
        "\r",
        "[=================........]  71.00% Tasks retries:0 Time 0:07:05"
       ]
      },
      {
       "output_type": "stream",
       "stream": "stdout",
       "text": [
        "\r",
        "[==================.......]  73.00% Tasks retries:0 Time 0:07:12"
       ]
      },
      {
       "output_type": "stream",
       "stream": "stdout",
       "text": [
        "\r",
        "[==================.......]  74.67% Tasks retries:0 Time 0:07:20"
       ]
      },
      {
       "output_type": "stream",
       "stream": "stdout",
       "text": [
        "\r",
        "[====================.....]  83.00% Tasks retries:0 Time 0:07:27"
       ]
      },
      {
       "output_type": "stream",
       "stream": "stdout",
       "text": [
        "\r",
        "[=========================] 100.00% Tasks retries:0 Time 0:07:34\n"
       ]
      },
      {
       "output_type": "stream",
       "stream": "stdout",
       "text": [
        "create task completed\n"
       ]
      }
     ],
     "prompt_number": 23
    },
    {
     "cell_type": "code",
     "collapsed": false,
     "input": [
      "g_names = get_graph_names()\n",
      "\n",
      "print g_names"
     ],
     "language": "python",
     "metadata": {},
     "outputs": [
      {
       "output_type": "stream",
       "stream": "stdout",
       "text": [
        "[u'vast_netflow_topic_01']\n"
       ]
      }
     ],
     "prompt_number": 27
    },
    {
     "cell_type": "code",
     "collapsed": false,
     "input": [],
     "language": "python",
     "metadata": {},
     "outputs": []
    }
   ],
   "metadata": {}
  }
 ]
}