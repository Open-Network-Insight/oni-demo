{
 "cells": [
  {
   "cell_type": "code",
   "execution_count": 31,
   "metadata": {
    "collapsed": false
   },
   "outputs": [
    {
     "name": "stdout",
     "output_type": "stream",
     "text": [
      "15/06/08 15:07:52 WARN conf.HiveConf: DEPRECATED: Configuration property hive.metastore.local no longer has any effect. Make sure to provide a valid value for hive.metastore.uris if you are connecting to a remote metastore.\n",
      "\n",
      "Logging initialized using configuration in jar:file:/opt/cloudera/parcels/CDH-5.3.1-1.cdh5.3.1.p0.5/jars/hive-common-0.13.1-cdh5.3.1.jar!/hive-log4j.properties\n",
      "OK\n",
      "timeseconds         \tfloat               \t                    \n",
      "parseddate          \ttimestamp           \t                    \n",
      "datetimestr         \tstring              \t                    \n",
      "iplayerprotocol     \tint                 \t                    \n",
      "iplayerprotocolcode \tstring              \t                    \n",
      "firstseensrcip      \tstring              \t                    \n",
      "firstseendestip     \tstring              \t                    \n",
      "firstseensrcport    \tint                 \t                    \n",
      "firstseendestport   \tint                 \t                    \n",
      "morefragments       \tstring              \t                    \n",
      "contfragments       \tstring              \t                    \n",
      "durationseconds     \tint                 \t                    \n",
      "firstseensrcpayloadbytes\tint                 \t                    \n",
      "firstseendestpayloadbytes\tint                 \t                    \n",
      "firstseensrctotalbytes\tint                 \t                    \n",
      "firstseendesttotalbytes\tint                 \t                    \n",
      "firstseensrcpacketcount\tint                 \t                    \n",
      "firstseendestpacketcount\tint                 \t                    \n",
      "recordforceout      \tstring              \t                    \n",
      "Time taken: 0.798 seconds, Fetched: 19 row(s)\n"
     ]
    }
   ],
   "source": [
    "!hive -e \"describe vast_netflow;\""
   ]
  },
  {
   "cell_type": "code",
   "execution_count": 27,
   "metadata": {
    "collapsed": true
   },
   "outputs": [],
   "source": [
    "day = 6"
   ]
  },
  {
   "cell_type": "code",
   "execution_count": 29,
   "metadata": {
    "collapsed": false
   },
   "outputs": [
    {
     "name": "stdout",
     "output_type": "stream",
     "text": [
      "15/06/04 15:44:14 WARN conf.HiveConf: DEPRECATED: Configuration property hive.metastore.local no longer has any effect. Make sure to provide a valid value for hive.metastore.uris if you are connecting to a remote metastore.\r\n"
     ]
    }
   ],
   "source": [
    "!hive -S -e \"set hive.cli.print.header=true; select firstseensrcip as sip,firstseendestip as dip \\\n",
    "from vast_netflow WHERE day(parseddate) = 6 and hour(parseddate)=14 \\\n",
    "GROUP BY firstseensrcip, firstseendestip \" > /home/hadoop/ipython/user/jasantos/vastday6_hr14_mat.tsv"
   ]
  },
  {
   "cell_type": "code",
   "execution_count": 30,
   "metadata": {
    "collapsed": false
   },
   "outputs": [
    {
     "name": "stdout",
     "output_type": "stream",
     "text": [
      "15/06/05 11:27:35 WARN conf.HiveConf: DEPRECATED: Configuration property hive.metastore.local no longer has any effect. Make sure to provide a valid value for hive.metastore.uris if you are connecting to a remote metastore.\r\n"
     ]
    }
   ],
   "source": [
    "!hive -S -e \"set hive.cli.print.header=true; select firstseensrcip as sip,firstseendestip as dip \\\n",
    "from vast_netflow WHERE day(parseddate) = 10 \\\n",
    "GROUP BY firstseensrcip, firstseendestip \" > /home/hadoop/ipython/user/jasantos/vastday10_mat"
   ]
  },
  {
   "cell_type": "code",
   "execution_count": 32,
   "metadata": {
    "collapsed": false
   },
   "outputs": [
    {
     "name": "stdout",
     "output_type": "stream",
     "text": [
      "15/06/08 15:08:25 WARN conf.HiveConf: DEPRECATED: Configuration property hive.metastore.local no longer has any effect. Make sure to provide a valid value for hive.metastore.uris if you are connecting to a remote metastore.\r\n"
     ]
    }
   ],
   "source": [
    "!hive -S -e \"set hive.cli.print.header=true; select firstseensrcip as srcIP,firstseendestip as dstIP,iplayerprotocol,firstseensrcport, \\\n",
    "firstseendestport,min(firstseensrctotalbytes) as minsrcbytes,max(firstseensrctotalbytes) as maxsrcbytes, \\\n",
    "avg(firstseensrctotalbytes) as avgsrcbytes, \\\n",
    "min(firstseendesttotalbytes) as mindestbytes, max(firstseendesttotalbytes) as maxdestbytes, \\\n",
    "avg(firstseendesttotalbytes) as avgdestbytes, count(firstseensrcip) as conns, dateTimeStr \\\n",
    "from vast_netflow WHERE day(parseddate) = 10 \\\n",
    "GROUP BY firstseensrcip, firstseendestip, firstseensrcport,firstseendestport,iplayerprotocol,dateTimeStr \" > /home/hadoop/ipython/user/jasantos/vastday10_time.tsv\n",
    "\n"
   ]
  },
  {
   "cell_type": "code",
   "execution_count": 7,
   "metadata": {
    "collapsed": false
   },
   "outputs": [
    {
     "name": "stdout",
     "output_type": "stream",
     "text": [
      "15/06/26 14:56:57 WARN conf.HiveConf: DEPRECATED: Configuration property hive.metastore.local no longer has any effect. Make sure to provide a valid value for hive.metastore.uris if you are connecting to a remote metastore.\r\n"
     ]
    }
   ],
   "source": [
    "# File for src port and dest port histograms\n",
    "!hive -S -e \"set hive.cli.print.header=true; select firstseensrcip as srcIP,firstseendestip as dstIP,firstseensrcport, \\\n",
    "firstseendestport, count(firstseensrcip) as conns \\\n",
    "from vast_netflow WHERE day(parseddate) = 6 \\\n",
    "GROUP BY firstseensrcip, firstseendestip, firstseensrcport,firstseendestport \" > /home/hadoop/ipython/user/jasantos/vastday6_ports.tsv\n",
    "\n"
   ]
  },
  {
   "cell_type": "code",
   "execution_count": 3,
   "metadata": {
    "collapsed": false
   },
   "outputs": [
    {
     "name": "stdout",
     "output_type": "stream",
     "text": [
      "15/07/07 09:52:16 WARN conf.HiveConf: DEPRECATED: Configuration property hive.metastore.local no longer has any effect. Make sure to provide a valid value for hive.metastore.uris if you are connecting to a remote metastore.\n",
      "\n",
      "Logging initialized using configuration in jar:file:/opt/cloudera/parcels/CDH-5.3.1-1.cdh5.3.1.p0.5/jars/hive-common-0.13.1-cdh5.3.1.jar!/hive-log4j.properties\n",
      "OK\n",
      "tstart              \ttimestamp           \t                    \n",
      "tend                \ttimestamp           \t                    \n",
      "tdur                \tfloat               \t                    \n",
      "sip                 \tstring              \t                    \n",
      "dip                 \tstring              \t                    \n",
      "sport               \tint                 \t                    \n",
      "dport               \tint                 \t                    \n",
      "proto               \tstring              \t                    \n",
      "flag                \tstring              \t                    \n",
      "fwd                 \tint                 \t                    \n",
      "stos                \tint                 \t                    \n",
      "ipkt                \tint                 \t                    \n",
      "ibyt                \tint                 \t                    \n",
      "opkt                \tint                 \t                    \n",
      "obyt                \tint                 \t                    \n",
      "input               \tint                 \t                    \n",
      "output              \tint                 \t                    \n",
      "year                \tint                 \t                    \n",
      "month               \tint                 \t                    \n",
      "day                 \tint                 \t                    \n",
      "hour                \tint                 \t                    \n",
      "\t \t \n",
      "# Partition Information\t \t \n",
      "# col_name            \tdata_type           \tcomment             \n",
      "\t \t \n",
      "year                \tint                 \t                    \n",
      "month               \tint                 \t                    \n",
      "day                 \tint                 \t                    \n",
      "hour                \tint                 \t                    \n",
      "Time taken: 0.752 seconds, Fetched: 29 row(s)\n",
      "15/07/07 09:52:22 WARN conf.HiveConf: DEPRECATED: Configuration property hive.metastore.local no longer has any effect. Make sure to provide a valid value for hive.metastore.uris if you are connecting to a remote metastore.\n",
      "\n",
      "Logging initialized using configuration in jar:file:/opt/cloudera/parcels/CDH-5.3.1-1.cdh5.3.1.p0.5/jars/hive-common-0.13.1-cdh5.3.1.jar!/hive-log4j.properties\n",
      "FAILED: SemanticException [Error 10094]: Line 1:36 Dynamic partition cannot be the parent of a static partition 'day'\n"
     ]
    }
   ],
   "source": [
    "!hive -e \"describe netflow_poc;\""
   ]
  },
  {
   "cell_type": "code",
   "execution_count": null,
   "metadata": {
    "collapsed": true
   },
   "outputs": [],
   "source": [
    "!hive -e \"show partitions netflow_poc;\""
   ]
  }
 ],
 "metadata": {
  "kernelspec": {
   "display_name": "Python 2",
   "language": "python",
   "name": "python2"
  },
  "language_info": {
   "codemirror_mode": {
    "name": "ipython",
    "version": 2
   },
   "file_extension": ".py",
   "mimetype": "text/x-python",
   "name": "python",
   "nbconvert_exporter": "python",
   "pygments_lexer": "ipython2",
   "version": "2.7.5"
  }
 },
 "nbformat": 4,
 "nbformat_minor": 0
}
