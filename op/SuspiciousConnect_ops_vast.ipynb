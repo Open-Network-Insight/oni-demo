{
 "cells": [
  {
   "cell_type": "code",
   "execution_count": 91,
   "metadata": {
    "collapsed": false
   },
   "outputs": [
    {
     "name": "stdout",
     "output_type": "stream",
     "text": [
      "modules loaded\n"
     ]
    }
   ],
   "source": [
    "import socket\n",
    "import struct\n",
    "import csv\n",
    "import numpy as np\n",
    "import IPython.display as disp\n",
    "\n",
    "print \"modules loaded\"\n",
    "\n",
    "spath = '/home/hadoop/ipython/vast/user/vast/'\n",
    "sconnect = spath + 'lda_scores.csv'\n"
   ]
  },
  {
   "cell_type": "code",
   "execution_count": 92,
   "metadata": {
    "collapsed": false
   },
   "outputs": [
    {
     "name": "stdout",
     "output_type": "stream",
     "text": [
      "251 /home/hadoop/ipython/vast/user/vast/lda_scores.csv\n",
      "score,Date,srcIP,dstIP,SPort,DPort,Sfirst,Dfirst,Stotal,Dtotal,Spkts,Dpkts\n",
      "1.50E-07,4/14/2013 15:10,10.70.68.127,172.30.0.4,6395,80,0,0,278,116,5,2\n",
      "1.50E-07,4/14/2013 15:09,10.70.68.127,172.30.0.4,55759,80,19,1006,297,1114,5,2\n",
      "1.51E-07,4/10/2013 17:16,10.13.77.49,172.10.0.40,61783,80,0,0,148,108,2,2\n",
      "1.51E-07,4/14/2013 15:16,10.13.77.49,172.10.0.2,0,0,0,0,354,354,2,2\n",
      "1.51E-07,4/14/2013 17:16,10.13.77.49,172.10.0.40,47131,80,0,0,206,162,3,3\n",
      "1.51E-07,4/14/2013 14:56,10.13.77.49,172.10.0.3,35579,25,0,0,112,58,2,1\n",
      "1.51E-07,4/14/2013 15:16,10.13.77.49,172.20.0.3,46032,25,0,0,496,280,8,4\n",
      "1.72E-07,4/11/2013 12:57,10.200.20.2,172.30.0.4,3247,80,0,0,286,62,5,1\n",
      "1.75E-07,4/14/2013 16:21,10.138.235.111,172.10.0.40,61471,80,0,0,148,108,2,2\n"
     ]
    }
   ],
   "source": [
    "!wc -l $sconnect\n",
    "!head -n 10 $sconnect"
   ]
  },
  {
   "cell_type": "code",
   "execution_count": 30,
   "metadata": {
    "collapsed": false
   },
   "outputs": [
    {
     "name": "stdout",
     "output_type": "stream",
     "text": [
      "7 10 29\n",
      "processing line  150\n",
      " \"set hive.cli.print.header=true; SELECT parseddate,iplayerprotocol as pcode,iplayerprotocolcode as pcode, firstseensrcip as srcip,firstseendestip as dstip,firstseensrcport as sport,firstseendestport as dport,firstseensrcpayloadbytes as sfirst,firstseendestpayloadbytes as dfirst,firstseensrctotalbytes as stotal, firstseendesttotalbytes as dtotal, firstseensrcpacketcount as  spkts, firstseendestpacketcount as  dpkts FROM vast_netflow WHERE ( (firstseensrcip='172.10.1.119' AND firstseendestip='10.199.250.2') OR (firstseensrcip='10.199.250.2' AND firstseendestip='172.10.1.119') )  AND day(parseddate)=10 AND hour(parseddate)=7 AND minute(parseddate)=29 SORT BY parseddate LIMIT 100 \" > /home/hadoop/ipython/vast/user/vast/edge-172_10_1_119-10_199_250_2-7-29.tsv\n",
      "15/04/08 02:02:12 WARN conf.HiveConf: DEPRECATED: Configuration property hive.metastore.local no longer has any effect. Make sure to provide a valid value for hive.metastore.uris if you are connecting to a remote metastore.\n"
     ]
    }
   ],
   "source": [
    "#sev,tstart,srcIP,dstIP,sport,dport,proto,ipkt,ibyt,lda_score\n",
    "with open(sconnect, 'r') as f:\n",
    "    reader = csv.reader(f,delimiter=',') \n",
    "    reader.next();\n",
    "    rowct = 1\n",
    "    for row in reader:\n",
    "        if int(row[0]) < 4: # 4 is the don't care\n",
    "            # get src ip and dst ip\n",
    "            sip = row[3]\n",
    "            dip = row[4]\n",
    "            # get hour and date 2014-07-08 10:10:40\n",
    "            hr = row[2].split(' ')[1].split(':')[0]\n",
    "            dy = row[2].split(' ')[0].split('/')[1] \n",
    "            mm = row[2].split(' ')[1].split(':')[1]\n",
    "\n",
    "            hivestr = (\" \\\"set hive.cli.print.header=true; SELECT parseddate,iplayerprotocol as pcode,\" +\n",
    "            \"iplayerprotocolcode as pcode, firstseensrcip as srcip,firstseendestip as dstip,\" +\n",
    "            \"firstseensrcport as sport,firstseendestport as dport,firstseensrcpayloadbytes as sfirst,\" +\n",
    "            \"firstseendestpayloadbytes as dfirst,firstseensrctotalbytes as stotal, firstseendesttotalbytes as dtotal, \" +\n",
    "            \"firstseensrcpacketcount as  spkts, firstseendestpacketcount as  dpkts FROM vast_netflow \" + \n",
    "            \"WHERE ( (firstseensrcip=\\'\" + sip + \"\\' AND firstseendestip=\\'\" + dip + \"\\') OR \" +\n",
    "            \"(firstseensrcip=\\'\" + dip + \"\\' AND firstseendestip=\\'\" + sip + \"\\') ) \" +\n",
    "            \" AND day(parseddate)=\"+dy+\" AND hour(parseddate)=\"+hr +\" AND minute(parseddate)=\"+mm +\n",
    "            \" SORT BY parseddate LIMIT 100 \\\" > \" + spath+ \"edge-\" + sip.replace(\".\",\"_\") + \"-\" + \n",
    "            dip.replace(\".\",\"_\") + \"-\" + hr + \"-\" + mm + \".tsv\")\n",
    "            disp.clear_output()\n",
    "            print hr, dy, mm\n",
    "            print 'processing line ',rowct\n",
    "            print hivestr\n",
    "            !hive -S -e $hivestr\n",
    "            if rowct == 150:\n",
    "                break\n",
    "            rowct = rowct + 1\n"
   ]
  },
  {
   "cell_type": "code",
   "execution_count": 93,
   "metadata": {
    "collapsed": false
   },
   "outputs": [
    {
     "name": "stdout",
     "output_type": "stream",
     "text": [
      "/home/hadoop/ipython/vast/user/vast//chord-10_0_0_10.tsv\n",
      "/home/hadoop/ipython/vast/user/vast//chord-10_0_0_12.tsv\n",
      "/home/hadoop/ipython/vast/user/vast//chord-10_0_0_6.tsv\n",
      "/home/hadoop/ipython/vast/user/vast//chord-10_0_0_7.tsv\n",
      "/home/hadoop/ipython/vast/user/vast//chord-10_0_0_9.tsv\n",
      "/home/hadoop/ipython/vast/user/vast//chord-10_0_3_77.tsv\n",
      "/home/hadoop/ipython/vast/user/vast//chord-10_12_14_15.tsv\n",
      "/home/hadoop/ipython/vast/user/vast//chord-10_12_15_152.tsv\n",
      "/home/hadoop/ipython/vast/user/vast//chord-10_13_77_49.tsv\n",
      "/home/hadoop/ipython/vast/user/vast//chord-10_138_235_111.tsv\n",
      "/home/hadoop/ipython/vast/user/vast//chord-10_17_15_10.tsv\n",
      "/home/hadoop/ipython/vast/user/vast//chord-10_199_250_2.tsv\n",
      "/home/hadoop/ipython/vast/user/vast//chord-10_6_6_7.tsv\n",
      "/home/hadoop/ipython/vast/user/vast//chord-172_0_0_1.tsv\n",
      "/home/hadoop/ipython/vast/user/vast//chord-172_10_0_2.tsv\n",
      "/home/hadoop/ipython/vast/user/vast//chord-172_10_0_3.tsv\n",
      "/home/hadoop/ipython/vast/user/vast//chord-172_10_0_40.tsv\n",
      "/home/hadoop/ipython/vast/user/vast//chord-172_10_0_4.tsv\n",
      "/home/hadoop/ipython/vast/user/vast//chord-172_10_0_5.tsv\n",
      "/home/hadoop/ipython/vast/user/vast//chord-172_10_0_7.tsv\n",
      "/home/hadoop/ipython/vast/user/vast//chord-172_10_0_8.tsv\n",
      "/home/hadoop/ipython/vast/user/vast//chord-172_10_0_9.tsv\n",
      "/home/hadoop/ipython/vast/user/vast//chord-172_20_0_15.tsv\n",
      "/home/hadoop/ipython/vast/user/vast//chord-172_20_0_2.tsv\n",
      "/home/hadoop/ipython/vast/user/vast//chord-172_20_0_3.tsv\n",
      "/home/hadoop/ipython/vast/user/vast//chord-172_20_0_4.tsv\n",
      "/home/hadoop/ipython/vast/user/vast//chord-172_20_0_5.tsv\n",
      "/home/hadoop/ipython/vast/user/vast//chord-172_20_0_6.tsv\n",
      "/home/hadoop/ipython/vast/user/vast//chord-172_30_0_3.tsv\n",
      "/home/hadoop/ipython/vast/user/vast//chord-172_30_0_4.tsv\n",
      "/home/hadoop/ipython/vast/user/vast//chord-172_30_0_6.tsv\n",
      "/home/hadoop/ipython/vast/user/vast//chord-172_30_0_7.tsv\n",
      "/home/hadoop/ipython/vast/user/vast//chord-172_30_1_218.tsv\n",
      "firstseensrcip\tfirstseendestip\t_c2\t_c3\t_c4\t_c5\n",
      "10.0.0.9\t172.30.1.229\t2709790\t0\t13459156\t318956\n",
      "172.30.1.218\t10.0.0.9\t366\t3092758\t55408066\t2765815338\n",
      "172.30.1.229\t10.0.0.9\t350\t3032220\t2274611\t83782020\n",
      "10.0.0.9\t172.30.1.218\t3000326\t183\t9076386\t177954\n",
      "172.30.1.61\t10.0.0.9\t350\t669540\t298152\t4334890\n",
      "10.0.0.9\t172.30.1.61\t2835518\t0\t2948138\t67102\n"
     ]
    }
   ],
   "source": [
    "#hive query for chord diagram tsvs: TODO\n",
    "!ls $spath/chord*.tsv\n",
    "!cat $spath/chord-10_0_0_9.tsv\n"
   ]
  },
  {
   "cell_type": "code",
   "execution_count": 94,
   "metadata": {
    "collapsed": false
   },
   "outputs": [],
   "source": [
    "chordfiles = ['/home/hadoop/ipython/vast/user/vast/chord-10_0_0_10.tsv',\n",
    "'/home/hadoop/ipython/vast/user/vast/chord-10_0_0_12.tsv',\n",
    "'/home/hadoop/ipython/vast/user/vast/chord-10_0_0_6.tsv',\n",
    "'/home/hadoop/ipython/vast/user/vast/chord-10_0_0_7.tsv',\n",
    "'/home/hadoop/ipython/vast/user/vast/chord-10_0_0_9.tsv',\n",
    "'/home/hadoop/ipython/vast/user/vast/chord-10_0_3_77.tsv',\n",
    "'/home/hadoop/ipython/vast/user/vast/chord-10_12_14_15.tsv',\n",
    "'/home/hadoop/ipython/vast/user/vast/chord-10_12_15_152.tsv',\n",
    "'/home/hadoop/ipython/vast/user/vast/chord-10_13_77_49.tsv',\n",
    "'/home/hadoop/ipython/vast/user/vast/chord-10_138_235_111.tsv',\n",
    "'/home/hadoop/ipython/vast/user/vast/chord-10_17_15_10.tsv',\n",
    "'/home/hadoop/ipython/vast/user/vast/chord-10_199_250_2.tsv',\n",
    "'/home/hadoop/ipython/vast/user/vast/chord-10_6_6_7.tsv',\n",
    "'/home/hadoop/ipython/vast/user/vast/chord-172_0_0_1.tsv',\n",
    "'/home/hadoop/ipython/vast/user/vast/chord-172_10_0_2.tsv',\n",
    "'/home/hadoop/ipython/vast/user/vast/chord-172_10_0_3.tsv',\n",
    "'/home/hadoop/ipython/vast/user/vast/chord-172_10_0_40.tsv',\n",
    "'/home/hadoop/ipython/vast/user/vast/chord-172_10_0_4.tsv',\n",
    "'/home/hadoop/ipython/vast/user/vast/chord-172_10_0_5.tsv',\n",
    "'/home/hadoop/ipython/vast/user/vast/chord-172_10_0_7.tsv',\n",
    "'/home/hadoop/ipython/vast/user/vast/chord-172_10_0_8.tsv',\n",
    "'/home/hadoop/ipython/vast/user/vast/chord-172_10_0_9.tsv',\n",
    "'/home/hadoop/ipython/vast/user/vast/chord-172_20_0_15.tsv',\n",
    "'/home/hadoop/ipython/vast/user/vast/chord-172_20_0_2.tsv',\n",
    "'/home/hadoop/ipython/vast/user/vast/chord-172_20_0_3.tsv',\n",
    "'/home/hadoop/ipython/vast/user/vast/chord-172_20_0_4.tsv',\n",
    "'/home/hadoop/ipython/vast/user/vast/chord-172_20_0_5.tsv',\n",
    "'/home/hadoop/ipython/vast/user/vast/chord-172_20_0_6.tsv',\n",
    "'/home/hadoop/ipython/vast/user/vast/chord-172_30_0_3.tsv',\n",
    "'/home/hadoop/ipython/vast/user/vast/chord-172_30_0_4.tsv',\n",
    "'/home/hadoop/ipython/vast/user/vast/chord-172_30_0_6.tsv',\n",
    "'/home/hadoop/ipython/vast/user/vast/chord-172_30_0_7.tsv',\n",
    "'/home/hadoop/ipython/vast/user/vast/chord-172_30_1_218.tsv']"
   ]
  },
  {
   "cell_type": "code",
   "execution_count": 95,
   "metadata": {
    "collapsed": false
   },
   "outputs": [
    {
     "name": "stdout",
     "output_type": "stream",
     "text": [
      "chord data loaded.\n",
      "chord data loaded.\n",
      "chord data loaded.\n",
      "chord data loaded.\n",
      "chord data loaded.\n",
      "chord data loaded.\n",
      "chord data loaded.\n",
      "chord data loaded.\n",
      "chord data loaded.\n",
      "chord data loaded.\n",
      "chord data loaded.\n",
      "chord data loaded.\n",
      "chord data loaded.\n",
      "chord data loaded.\n",
      "chord data loaded.\n",
      "chord data loaded.\n",
      "chord data loaded.\n",
      "chord data loaded.\n",
      "chord data loaded.\n",
      "chord data loaded.\n",
      "chord data loaded.\n",
      "chord data loaded.\n",
      "chord data loaded.\n",
      "chord data loaded.\n",
      "chord data loaded.\n",
      "chord data loaded.\n",
      "chord data loaded.\n",
      "chord data loaded.\n",
      "chord data loaded.\n",
      "chord data loaded.\n",
      "chord data loaded.\n",
      "chord data loaded.\n",
      "chord data loaded.\n"
     ]
    }
   ],
   "source": [
    "#ceate chord matrix\n",
    "for chordfile in chordfiles:\n",
    "    #chordfile = 'chord-10_0_0_9'\n",
    "    ll = 30;\n",
    "    #load csv into array\n",
    "    #with open(spath+chordfile+'.tsv', 'rb') as f:\n",
    "    with open(chordfile, 'rb') as f:\n",
    "        reader = csv.reader(f,delimiter='\\t') \n",
    "        reader.next()\n",
    "        carry = np.zeros([ll,3],np.int64)\n",
    "        rowct = 0\n",
    "        for row in reader:\n",
    "            #print row\n",
    "            carry[rowct,0] = struct.unpack(\"!L\", socket.inet_aton(row[0]))[0]    \n",
    "            carry[rowct,1] = struct.unpack(\"!L\", socket.inet_aton(row[1]))[0]    \n",
    "            carry[rowct,2] = np.int64(row[2])\n",
    "            rowct += 1\n",
    "            if rowct == ll-1:\n",
    "                break\n",
    "\n",
    "    dim = np.zeros(2*ll,np.int64)\n",
    "    dim = np.concatenate([carry[:,0],carry[:,1]],axis=0)\n",
    "    dim = np.unique(dim)\n",
    "    chordm = np.zeros([len(dim),len(dim)],np.int64)\n",
    "    for j in carry:\n",
    "        xcoord = np.where(dim == j[0]);\n",
    "        ycoord = np.where(dim == j[1]);\n",
    "        chordm[xcoord,ycoord] = j[2]\n",
    "    print 'chord data loaded.'\n",
    "    dimstr = []\n",
    "    for j in dim:\n",
    "        dimstr.append(socket.inet_ntoa(struct.pack('!L', j)))\n",
    "    headr = \",\".join(dimstr)\n",
    "    fmtr = r'%1d ' * len(dim)\n",
    "    #with open(spath+chordfile+'.csv', 'wb') as f:\n",
    "    with open(chordfile.replace('.tsv','.csv'), 'wb') as f:\n",
    "        riter = csv.writer(f,delimiter=',')\n",
    "        # header line?\n",
    "        for j in chordm:\n",
    "            #outstr = '['+','.join(map(str, j))+'],'\n",
    "            riter.writerow(j)\n",
    "    #np.savetxt(g,chordm,delimiter=',',fmt=fmtr,header=headr)\n"
   ]
  },
  {
   "cell_type": "code",
   "execution_count": 80,
   "metadata": {
    "collapsed": false
   },
   "outputs": [
    {
     "name": "stdout",
     "output_type": "stream",
     "text": [
      "0,0,0,0,0\r",
      "\r\n",
      "0,0,2835518,3000326,2709790\r",
      "\r\n",
      "0,350,0,0,0\r",
      "\r\n",
      "0,366,0,0,0\r",
      "\r\n",
      "0,350,0,0,0\r",
      "\r\n"
     ]
    }
   ],
   "source": [
    "!cat $spath/chord-10_0_0_9.csv"
   ]
  },
  {
   "cell_type": "code",
   "execution_count": null,
   "metadata": {
    "collapsed": false
   },
   "outputs": [],
   "source": []
  }
 ],
 "metadata": {
  "kernelspec": {
   "display_name": "Python 2",
   "language": "python",
   "name": "python2"
  },
  "language_info": {
   "codemirror_mode": {
    "name": "ipython",
    "version": 2
   },
   "file_extension": ".py",
   "mimetype": "text/x-python",
   "name": "python",
   "nbconvert_exporter": "python",
   "pygments_lexer": "ipython2",
   "version": "2.7.5"
  }
 },
 "nbformat": 4,
 "nbformat_minor": 0
}
