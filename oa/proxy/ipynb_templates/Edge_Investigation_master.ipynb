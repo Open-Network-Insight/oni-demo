{
 "cells": [
  {
   "cell_type": "markdown",
   "metadata": {},
   "source": [
    "## Get Suspicious Requests"
   ]
  },
  {
   "cell_type": "code",
   "execution_count": null,
   "metadata": {
    "collapsed": false
   },
   "outputs": [],
   "source": [
    "import urllib2\n",
    "import json\n",
    "import os\n",
    "import csv\n",
    "\n",
    "# getting date from the parent path. \n",
    "path = os.getcwd().split(\"/\") \n",
    "date = path[len(path)-1]   \n",
    "dsource = path[len(path)-2]  \n",
    "dpath = '/'.join(['data' if var == 'ipynb' else var for var in path]) + '/'\n",
    "\n",
    "sconnect = dpath + 'proxy_scores.csv'\n",
    "sconnectbu = dpath + 'proxy_scores_bu.csv'\n",
    "score_tmp = dpath + 'proxy_tmp.csv'  "
   ]
  },
  {
   "cell_type": "code",
   "execution_count": null,
   "metadata": {
    "collapsed": false
   },
   "outputs": [],
   "source": [
    "try:\n",
    "    import ipywidgets as widgets # For jupyter/ipython >= 1.4\n",
    "except ImportError:\n",
    "    from IPython.html import widgets\n",
    "from IPython.display import display, HTML, clear_output, Javascript \n",
    "\n",
    "def fill_list(list_control,source):\n",
    "    options_list = ['--Select--'] \n",
    "    options_list.extend([s for s in source])\n",
    "    list_control.options = options_list\n",
    "\n",
    "# URI panel\n",
    "uri_header = widgets.HTML(value=\"URI\", height='10%', width='100%')\n",
    "uri_select = widgets.Select(height='100%', width='99%')\n",
    "\n",
    "uri_select._css = (\n",
    "    (None, 'height', '90%'),\n",
    "    (None, 'width', '95%'),\n",
    "    ('select', 'overflow-x', 'auto'),\n",
    "    ('select', 'width', '100%'),\n",
    "    ('select', 'margin', 0)\n",
    ")\n",
    "\n",
    "uri_box = widgets.Box(width='70%', height='100%')\n",
    "uri_box.children = [uri_header, uri_select]\n",
    "\n",
    "# Actions Panel\n",
    "actions_header = widgets.HTML(value=\"&nbsp;\", width='100%', height='10%')\n",
    "quick_text = widgets.Text(value='', width='100%', placeholder='Quick scoring')\n",
    "quick_text._css = (\n",
    "    (None, 'width', '100%'),\n",
    ")\n",
    "rating_btn = widgets.RadioButtons(description='Rating:', options=['1', '2', '3'], width='100%')\n",
    "assign_btn = widgets.Button(description='Score', width='45%')\n",
    "assign_btn.button_style = 'primary'\n",
    "save_btn = widgets.Button(description='Save', width='45%')\n",
    "save_btn.button_style = 'primary'\n",
    "save_btn._css = (\n",
    "    (None, 'margin-left', '10%'),\n",
    ")\n",
    "\n",
    "actions_box = widgets.Box(width='30%', height='100%')\n",
    "actions_box.children = [actions_header,quick_text,rating_btn, assign_btn,save_btn]\n",
    "\n",
    "scoring_form = widgets.HBox(width='90%', height=250)\n",
    "scoring_form.children = [uri_box, actions_box]\n",
    "\n",
    "\n",
    "def data_loader(): \n",
    "    us_uris = []\n",
    "\n",
    "    with open(sconnect, 'r') as f:\n",
    "        reader = csv.DictReader(f, delimiter=',')\n",
    "        \n",
    "        for row in reader: \n",
    "            if row['fulluri'] not in us_uris and row['uri_sev'] == '0': \n",
    "                us_uris.append(row['fulluri'])\n",
    "\n",
    "    fill_list(uri_select,us_uris)\n",
    "    uri_select.value = \"--Select--\"   \n",
    "\n",
    "\n",
    "display(Javascript(\"$('.widget-area > .widget-subarea > *').remove();\"))\n",
    "data_loader()\n",
    "display(scoring_form)"
   ]
  },
  {
   "cell_type": "markdown",
   "metadata": {},
   "source": [
    "# Update Suspicious Requests"
   ]
  },
  {
   "cell_type": "code",
   "execution_count": null,
   "metadata": {
    "collapsed": false
   },
   "outputs": [],
   "source": [
    "import csv\n",
    "import datetime\n",
    "import subprocess \n",
    "\n",
    "\n",
    "def assign_score(b):\n",
    "    score_values = []\n",
    "    \n",
    "    clear_output()\n",
    "\n",
    "    uri = quick_text.value or uri_select.value\n",
    "    uri_sev = int(rating_btn.selected_label) if not \"--Select--\" in uri_select.value else \"\"\n",
    "\n",
    "    with open(sconnect, 'r') as f:\n",
    "        reader = csv.DictReader(f, delimiter=',')\n",
    "        rowct = 0\n",
    "        with open(score_tmp, 'w') as score:\n",
    "            wr = csv.writer(score, delimiter=',', quoting=csv.QUOTE_NONE)\n",
    "            wr = csv.DictWriter(score, delimiter=',', quoting=csv.QUOTE_NONE, fieldnames=reader.fieldnames)\n",
    "            \n",
    "            wr.writeheader()\n",
    "\n",
    "            for row in reader:\n",
    "                if row['fulluri'] == uri:\n",
    "                    row['uri_sev'] = uri_sev\n",
    "                    rowct += 1\n",
    "\n",
    "                try:\n",
    "                    wr.writerow(row)\n",
    "                except:\n",
    "                    print str(row)\n",
    "\n",
    "    clear_output()\n",
    "    print \"{0} matching requests scored\".format(rowct)\n",
    "    !mv $score_tmp $sconnect\n",
    "\n",
    "    data_loader()\n",
    "\n",
    "    uri_select.value = \"--Select--\"\n",
    "    quick_text.value = \"\"\n",
    "\n",
    "\n",
    "def save(b):   \n",
    "    clear_output()\n",
    "    display(Javascript(\"$('.widget-area > .widget-subarea > *').remove();\"))\n",
    "    data_loader()\n",
    "    display(scoring_form)\n",
    "    display(Javascript('window.parent.iframeReloadHook && window.parent.iframeReloadHook();'))\n",
    "    ml_feedback()\n",
    "    print \"Suspicious requests successfully updated\"\n",
    "\n",
    "\n",
    "assign_btn.on_click(assign_score)\n",
    "save_btn.on_click(save)\n",
    "        \n",
    "\n",
    "def ml_feedback():\n",
    "    str=\"DSOURCE=$dsource &&\\\n",
    "        FDATE={0} &&\\\n",
    "        source /etc/duxbay.conf &&\\\n",
    "        usr=$(echo $LUSER | cut -f3 -d'/') &&\\\n",
    "        mlnode=$MLNODE &&\\\n",
    "        lpath=$LPATH &&\\\n",
    "        scp {1} $usr@$mlnode:$lpath/\".format(date,sconnect)  \n",
    "\n",
    "    subprocess.call(str, shell=True)"
   ]
  },
  {
   "cell_type": "code",
   "execution_count": null,
   "metadata": {
    "collapsed": true
   },
   "outputs": [],
   "source": [
    "#!cp $sconnectbu $sconnect"
   ]
  }
 ],
 "metadata": {
  "kernelspec": {
   "display_name": "Python 2",
   "language": "python",
   "name": "python2"
  },
  "language_info": {
   "codemirror_mode": {
    "name": "ipython",
    "version": 2
   },
   "file_extension": ".py",
   "mimetype": "text/x-python",
   "name": "python",
   "nbconvert_exporter": "python",
   "pygments_lexer": "ipython2",
   "version": "2.7.6"
  }
 },
 "nbformat": 4,
 "nbformat_minor": 0
}
